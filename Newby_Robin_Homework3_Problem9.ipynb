{
 "cells": [
  {
   "cell_type": "markdown",
   "source": [
    "# Homework 3: Problem 9\n"
   ],
   "metadata": {
    "collapsed": false
   }
  },
  {
   "cell_type": "markdown",
   "source": [
    "Consider a professional cyclist on a flat surface with air resistance. Instead of the acceleration of gravity, the relevant equation of motion is\n",
    "$$ \\frac{dv}{dt} = \\frac{P}{mv} $$\n",
    "where $P$ is the (constant) power exerted by the rider and $m$ is their mass.\n",
    "## Part a)\n",
    "Solve the equation of motion analytically for v(t) with no air resistance."
   ],
   "metadata": {
    "collapsed": false
   }
  },
  {
   "cell_type": "markdown",
   "source": [
    "We begin be rearranging the given equation to\n",
    "$$ v\\,dv = \\frac{P\\,dt}{m} $$\n",
    "by multiplying both sides by $v\\,dt$.\n",
    "\n",
    "We can then integrate both sides with general bounds $v_0$,$t$, and $v(t)$ as follows:\n",
    "$$\\int_{v_0}^{v(t)} v'\\,dv' = \\int_{0}^{t} \\frac{P}{m} \\,dt'$$\n",
    "where we rename our integration variables to $v'$ and $t'$ to avoid ambiguity with the bounds $v(t)$ and $t$.\n",
    "The integrals are then\n",
    "$$ v'^2\\Big|_{v_{0}}^{v(t)} = t'\\frac{P}{m}\\Big|_{0}^{t}$$\n",
    "which simplify to\n",
    "$$ {v(t)}^2 - v_{0}^2 = \\frac{P}{m}\\,t$$ and can be rearranged to\n",
    "$$ {v(t)}^2 = \\frac{P}{m}\\,t+v_{0}^2$$\n",
    "To finally solve for $v(t)$, we take the square root of both sides and choose the positive root\n",
    "$$ v(t) = \\sqrt{\\frac{P}{m}\\,t+v_{0}^2}$$\n",
    "\n",
    "This result is slightly unphysical, as it implies the speed can increase without bound due to the lack of air resistance. The original differential equation also allows that the initial acceleration get arbitrarily large if the biker begins at an arbitrarily slow speed, blowing up if the biker begins stationary. These are simply consequences of the differential equation, rather than errors in analysis however, so they're not anything to worry about given that this is just a simplified model.\n"
   ],
   "metadata": {
    "collapsed": false
   }
  },
  {
   "cell_type": "markdown",
   "source": [
    "## (b)\n",
    "Use Euler’s method to find $v(t)$ with and without air resistance. Look up some realistic values for $P$, $m$, and the air resistance terms. What consideration do you need to adopt for $v_0$?"
   ],
   "metadata": {
    "collapsed": false
   }
  },
  {
   "cell_type": "markdown",
   "source": [
    "Supposedly, a cyclist will average between 75 and 400 Watts of power output over a one hour workout depending on fitness level. I'll got with 200W for a moderately fit bicyclist.\n",
    "The avg american weighs roughly 80kg (~180lbs) and the avg bike weighs something like 12kg. This gives a combined mass of 92kg, which I'll round up to 100kg to account for clothes and a backpack plus a bit of extra body weight. While the average professional cyclist likely weighs significantly less, this will do just fine since we're fudging a variety of factors, and not assuming a professional athlete is the one powering the bike."
   ],
   "metadata": {
    "collapsed": false
   }
  },
  {
   "cell_type": "code",
   "execution_count": null,
   "metadata": {
    "collapsed": true
   },
   "outputs": [],
   "source": []
  }
 ],
 "metadata": {
  "kernelspec": {
   "display_name": "Python 3",
   "language": "python",
   "name": "python3"
  },
  "language_info": {
   "codemirror_mode": {
    "name": "ipython",
    "version": 2
   },
   "file_extension": ".py",
   "mimetype": "text/x-python",
   "name": "python",
   "nbconvert_exporter": "python",
   "pygments_lexer": "ipython2",
   "version": "2.7.6"
  }
 },
 "nbformat": 4,
 "nbformat_minor": 0
}
