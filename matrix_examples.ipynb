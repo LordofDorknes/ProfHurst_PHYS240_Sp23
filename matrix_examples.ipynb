{
 "cells": [
  {
   "cell_type": "markdown",
   "id": "italic-cabinet",
   "metadata": {},
   "source": [
    "# matrix_examples.ipynb : examples of linear algebra"
   ]
  },
  {
   "cell_type": "code",
   "execution_count": 1,
   "id": "sized-faith",
   "metadata": {},
   "outputs": [],
   "source": [
    "from pylab import *\n",
    "# note linear algebra functions below (solve, inv, eig, etc) come from numpy.linalg"
   ]
  },
  {
   "cell_type": "markdown",
   "id": "celtic-minister",
   "metadata": {},
   "source": [
    "solve matrix equation:  \n",
    "$$\\begin{align}\n",
    "x + y + z = -1 \\\\  \n",
    "x - 2y - z = -2 \\\\\n",
    "x + 3y - 1 = -5\n",
    "\\end{align}$$  \n",
    "$${\\bf A x = b}$$"
   ]
  },
  {
   "cell_type": "code",
   "execution_count": 2,
   "id": "naughty-indonesian",
   "metadata": {},
   "outputs": [
    {
     "name": "stdout",
     "output_type": "stream",
     "text": [
      "x solution =  [-1.8 -0.6  1.4]\n"
     ]
    }
   ],
   "source": [
    "A = array([[1,1,1],\n",
    "           [1,-2,-1],\n",
    "           [1,3,-1]])\n",
    "b = array([-1,-2,-5])\n",
    "x = solve(A,b) \n",
    "print('x solution = ', x)"
   ]
  },
  {
   "cell_type": "code",
   "execution_count": 3,
   "id": "freelance-liability",
   "metadata": {},
   "outputs": [
    {
     "name": "stdout",
     "output_type": "stream",
     "text": [
      "b check =  [-1. -2. -5.]  should be =  [-1 -2 -5]\n"
     ]
    }
   ],
   "source": [
    "b_check = A @ x # alternatively dot(A,x)\n",
    "print('b check = ',b_check,' should be = ', b)"
   ]
  },
  {
   "cell_type": "markdown",
   "id": "rapid-notification",
   "metadata": {},
   "source": [
    "more checks, good to machine precision, not exactly zero:"
   ]
  },
  {
   "cell_type": "code",
   "execution_count": 4,
   "id": "cubic-cosmetic",
   "metadata": {},
   "outputs": [
    {
     "name": "stdout",
     "output_type": "stream",
     "text": [
      "check:  [False  True  True]\n",
      "check:  [2.22044605e-16 0.00000000e+00 0.00000000e+00]\n"
     ]
    }
   ],
   "source": [
    "print('check: ', A@x == b)\n",
    "print('check: ', A@x / b - 1.0)"
   ]
  },
  {
   "cell_type": "markdown",
   "id": "numerical-awareness",
   "metadata": {},
   "source": [
    "another way to do it:  \n",
    "$${\\bf x = A}^{-1} {\\bf b}$$"
   ]
  },
  {
   "cell_type": "code",
   "execution_count": 5,
   "id": "broadband-stopping",
   "metadata": {},
   "outputs": [
    {
     "name": "stdout",
     "output_type": "stream",
     "text": [
      "x solution = [-1.8 -0.6  1.4]\n",
      "check = [ 0.00000000e+00 -2.22044605e-16  2.22044605e-16]\n"
     ]
    }
   ],
   "source": [
    "x = inv(A) @ b\n",
    "print('x solution =', x)\n",
    "print('check =', A@x / b - 1.0)"
   ]
  },
  {
   "cell_type": "markdown",
   "id": "congressional-officer",
   "metadata": {},
   "source": [
    "singular matrix, recognized by NumPy:"
   ]
  },
  {
   "cell_type": "code",
   "execution_count": 6,
   "id": "apart-division",
   "metadata": {},
   "outputs": [
    {
     "ename": "LinAlgError",
     "evalue": "Singular matrix",
     "output_type": "error",
     "traceback": [
      "\u001b[0;31m---------------------------------------------------------------------------\u001b[0m",
      "\u001b[0;31mLinAlgError\u001b[0m                               Traceback (most recent call last)",
      "\u001b[0;32m/var/folders/13/l29k8qtx3bb_v_fq8km2gxkm0000gq/T/ipykernel_4040/1819993559.py\u001b[0m in \u001b[0;36m<module>\u001b[0;34m\u001b[0m\n\u001b[1;32m      1\u001b[0m A2 = array([[1,1],\n\u001b[1;32m      2\u001b[0m            [2,2]])\n\u001b[0;32m----> 3\u001b[0;31m \u001b[0mprint\u001b[0m\u001b[0;34m(\u001b[0m\u001b[0minv\u001b[0m\u001b[0;34m(\u001b[0m\u001b[0mA2\u001b[0m\u001b[0;34m)\u001b[0m\u001b[0;34m)\u001b[0m\u001b[0;34m\u001b[0m\u001b[0;34m\u001b[0m\u001b[0m\n\u001b[0m",
      "\u001b[0;32m<__array_function__ internals>\u001b[0m in \u001b[0;36minv\u001b[0;34m(*args, **kwargs)\u001b[0m\n",
      "\u001b[0;32m~/opt/anaconda3/lib/python3.9/site-packages/numpy/linalg/linalg.py\u001b[0m in \u001b[0;36minv\u001b[0;34m(a)\u001b[0m\n\u001b[1;32m    543\u001b[0m     \u001b[0msignature\u001b[0m \u001b[0;34m=\u001b[0m \u001b[0;34m'D->D'\u001b[0m \u001b[0;32mif\u001b[0m \u001b[0misComplexType\u001b[0m\u001b[0;34m(\u001b[0m\u001b[0mt\u001b[0m\u001b[0;34m)\u001b[0m \u001b[0;32melse\u001b[0m \u001b[0;34m'd->d'\u001b[0m\u001b[0;34m\u001b[0m\u001b[0;34m\u001b[0m\u001b[0m\n\u001b[1;32m    544\u001b[0m     \u001b[0mextobj\u001b[0m \u001b[0;34m=\u001b[0m \u001b[0mget_linalg_error_extobj\u001b[0m\u001b[0;34m(\u001b[0m\u001b[0m_raise_linalgerror_singular\u001b[0m\u001b[0;34m)\u001b[0m\u001b[0;34m\u001b[0m\u001b[0;34m\u001b[0m\u001b[0m\n\u001b[0;32m--> 545\u001b[0;31m     \u001b[0mainv\u001b[0m \u001b[0;34m=\u001b[0m \u001b[0m_umath_linalg\u001b[0m\u001b[0;34m.\u001b[0m\u001b[0minv\u001b[0m\u001b[0;34m(\u001b[0m\u001b[0ma\u001b[0m\u001b[0;34m,\u001b[0m \u001b[0msignature\u001b[0m\u001b[0;34m=\u001b[0m\u001b[0msignature\u001b[0m\u001b[0;34m,\u001b[0m \u001b[0mextobj\u001b[0m\u001b[0;34m=\u001b[0m\u001b[0mextobj\u001b[0m\u001b[0;34m)\u001b[0m\u001b[0;34m\u001b[0m\u001b[0;34m\u001b[0m\u001b[0m\n\u001b[0m\u001b[1;32m    546\u001b[0m     \u001b[0;32mreturn\u001b[0m \u001b[0mwrap\u001b[0m\u001b[0;34m(\u001b[0m\u001b[0mainv\u001b[0m\u001b[0;34m.\u001b[0m\u001b[0mastype\u001b[0m\u001b[0;34m(\u001b[0m\u001b[0mresult_t\u001b[0m\u001b[0;34m,\u001b[0m \u001b[0mcopy\u001b[0m\u001b[0;34m=\u001b[0m\u001b[0;32mFalse\u001b[0m\u001b[0;34m)\u001b[0m\u001b[0;34m)\u001b[0m\u001b[0;34m\u001b[0m\u001b[0;34m\u001b[0m\u001b[0m\n\u001b[1;32m    547\u001b[0m \u001b[0;34m\u001b[0m\u001b[0m\n",
      "\u001b[0;32m~/opt/anaconda3/lib/python3.9/site-packages/numpy/linalg/linalg.py\u001b[0m in \u001b[0;36m_raise_linalgerror_singular\u001b[0;34m(err, flag)\u001b[0m\n\u001b[1;32m     86\u001b[0m \u001b[0;34m\u001b[0m\u001b[0m\n\u001b[1;32m     87\u001b[0m \u001b[0;32mdef\u001b[0m \u001b[0m_raise_linalgerror_singular\u001b[0m\u001b[0;34m(\u001b[0m\u001b[0merr\u001b[0m\u001b[0;34m,\u001b[0m \u001b[0mflag\u001b[0m\u001b[0;34m)\u001b[0m\u001b[0;34m:\u001b[0m\u001b[0;34m\u001b[0m\u001b[0;34m\u001b[0m\u001b[0m\n\u001b[0;32m---> 88\u001b[0;31m     \u001b[0;32mraise\u001b[0m \u001b[0mLinAlgError\u001b[0m\u001b[0;34m(\u001b[0m\u001b[0;34m\"Singular matrix\"\u001b[0m\u001b[0;34m)\u001b[0m\u001b[0;34m\u001b[0m\u001b[0;34m\u001b[0m\u001b[0m\n\u001b[0m\u001b[1;32m     89\u001b[0m \u001b[0;34m\u001b[0m\u001b[0m\n\u001b[1;32m     90\u001b[0m \u001b[0;32mdef\u001b[0m \u001b[0m_raise_linalgerror_nonposdef\u001b[0m\u001b[0;34m(\u001b[0m\u001b[0merr\u001b[0m\u001b[0;34m,\u001b[0m \u001b[0mflag\u001b[0m\u001b[0;34m)\u001b[0m\u001b[0;34m:\u001b[0m\u001b[0;34m\u001b[0m\u001b[0;34m\u001b[0m\u001b[0m\n",
      "\u001b[0;31mLinAlgError\u001b[0m: Singular matrix"
     ]
    }
   ],
   "source": [
    "A2 = array([[1,1],\n",
    "           [2,2]])\n",
    "try: \n",
    "    print(inv(A2))\n",
    "except LinAlgError: \n",
    "    print('Singular Matrix - no in')"
   ]
  },
  {
   "cell_type": "markdown",
   "id": "restricted-effect",
   "metadata": {},
   "source": [
    "singular matrix, not recognized by NumPy:"
   ]
  },
  {
   "cell_type": "code",
   "execution_count": null,
   "id": "fatal-draft",
   "metadata": {},
   "outputs": [],
   "source": [
    "A3 = array([[1,2,3],\n",
    "           [4,5,6],\n",
    "           [7,8,9]])\n",
    "print(inv(A3))"
   ]
  },
  {
   "cell_type": "markdown",
   "id": "every-lecture",
   "metadata": {},
   "source": [
    "check for identity matrix:  \n",
    "$${\\bf A}^{-1} {\\bf A} = {\\bf I}$$ ?"
   ]
  },
  {
   "cell_type": "code",
   "execution_count": null,
   "id": "cutting-ratio",
   "metadata": {},
   "outputs": [],
   "source": [
    "print(inv(A3) @ A3)"
   ]
  },
  {
   "cell_type": "markdown",
   "id": "twelve-albany",
   "metadata": {},
   "source": [
    "other tests:"
   ]
  },
  {
   "cell_type": "code",
   "execution_count": null,
   "id": "liquid-heather",
   "metadata": {},
   "outputs": [],
   "source": [
    "print('determinant = ', det(A3))\n",
    "print('condition number = ', cond(A3))"
   ]
  },
  {
   "cell_type": "markdown",
   "id": "precious-mongolia",
   "metadata": {},
   "source": [
    "Moore$-$Penrose pseuo-inverse (generalized inverse, or least-squares best-fit): "
   ]
  },
  {
   "cell_type": "code",
   "execution_count": null,
   "id": "confused-mustang",
   "metadata": {},
   "outputs": [],
   "source": [
    "pinv_A3 = pinv(A3)\n",
    "print(pinv_A3)\n",
    "print(pinv_A3 @ A3)"
   ]
  },
  {
   "cell_type": "markdown",
   "id": "therapeutic-investigation",
   "metadata": {},
   "source": [
    "eigenvalues and eigenvectors :  \n",
    "$$ {\\bf A v} = \\lambda {\\bf v}$$"
   ]
  },
  {
   "cell_type": "code",
   "execution_count": null,
   "id": "southwest-cooper",
   "metadata": {},
   "outputs": [],
   "source": [
    "A4 = array([[0.8,0.3],\n",
    "           [0.2,0.7]])\n",
    "lam,v = eig(A4)  # \"lambda\" is reserved word in python, don't use it here\n",
    "print('eigenvalues: ', lam)\n",
    "print('eigenvalues: ', eigvals(A4))\n",
    "print('eigenvectors (as *columns*): ')\n",
    "print(v)"
   ]
  },
  {
   "cell_type": "markdown",
   "id": "positive-synthetic",
   "metadata": {},
   "source": [
    "check:"
   ]
  },
  {
   "cell_type": "code",
   "execution_count": null,
   "id": "educated-lafayette",
   "metadata": {},
   "outputs": [],
   "source": [
    "print(A4@v - lam*v)"
   ]
  },
  {
   "cell_type": "markdown",
   "id": "comparable-candidate",
   "metadata": {},
   "source": [
    "Alternative function for complex Hermitian or real symmetric matrix:"
   ]
  },
  {
   "cell_type": "code",
   "execution_count": null,
   "id": "demographic-going",
   "metadata": {},
   "outputs": [],
   "source": [
    "A5 = array([[0.8,0],\n",
    "            [0,0.7]])\n",
    "print(eig(A5))\n",
    "print(eigh(A5))"
   ]
  },
  {
   "cell_type": "markdown",
   "id": "victorian-uncertainty",
   "metadata": {},
   "source": [
    "circuit example, where the goal is to find the power through resistor #5 for a series of voltages $E_2$:  \n",
    "$${\\bf A i} = {\\bf b}$$"
   ]
  },
  {
   "cell_type": "code",
   "execution_count": null,
   "id": "supreme-yacht",
   "metadata": {},
   "outputs": [],
   "source": [
    "R1, R2, R3, R4, R5 = 1.0, 1.0, 2.0, 2.0, 5.0 # resistances\n",
    "E1, E3 = 2.0, 5.0 # fixed voltages\n",
    "E2_vec = linspace(0,20,100) # variable voltage\n",
    "\n",
    "A_R = array([[1,-1,-1],\n",
    "            [-R1-R2,0,-R3],\n",
    "            [0,-R4-R5,R3]])\n",
    "A_R_inv = inv(A_R) # more efficient than repetitively using i = solve(A_R,b)\n",
    "\n",
    "P5 = array([]) # power through resistor 5\n",
    "for E2 in E2_vec :\n",
    "    b_E = array([0,E2-E1,E3-E2])\n",
    "    i = A_R_inv @ b_E\n",
    "    P5 = append(P5,i[1]**2 * R5) # note that i_1,2,3 are i[0,1,2]\n",
    "\n",
    "rcParams.update({'font.size': 18})\n",
    "fig1 = figure(figsize=(8,6.5))\n",
    "plot(E2_vec,P5)\n",
    "xlabel('$E_2 \\, [\\mathrm{V}]$')\n",
    "ylabel('$P_5 \\, [\\mathrm{W}]$')\n",
    "grid('on')\n",
    "title('power through resistor 5')\n",
    "tick_params('both', length=8, width=1.2, which='major') # bigger axis ticks"
   ]
  },
  {
   "cell_type": "markdown",
   "id": "right-blast",
   "metadata": {},
   "source": [
    "Solve system of equations on slide 6 :"
   ]
  },
  {
   "cell_type": "markdown",
   "id": "consistent-provision",
   "metadata": {},
   "source": [
    "Find power through resistor 2 for $E_2 = 23$ V:"
   ]
  },
  {
   "cell_type": "code",
   "execution_count": null,
   "id": "accomplished-setting",
   "metadata": {},
   "outputs": [],
   "source": []
  }
 ],
 "metadata": {
  "kernelspec": {
   "display_name": "Python 3 (ipykernel)",
   "language": "python",
   "name": "python3"
  },
  "language_info": {
   "codemirror_mode": {
    "name": "ipython",
    "version": 3
   },
   "file_extension": ".py",
   "mimetype": "text/x-python",
   "name": "python",
   "nbconvert_exporter": "python",
   "pygments_lexer": "ipython3",
   "version": "3.9.7"
  }
 },
 "nbformat": 4,
 "nbformat_minor": 5
}
