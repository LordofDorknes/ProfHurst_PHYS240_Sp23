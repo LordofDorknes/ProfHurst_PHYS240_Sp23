{
 "cells": [
  {
   "cell_type": "markdown",
   "source": [
    "# Homework 4: Problem 15"
   ],
   "metadata": {
    "collapsed": false
   }
  },
  {
   "cell_type": "markdown",
   "source": [
    "A simple electronic circuit pictured in Fig. 2 contains one resistor and one capacitor.\n",
    "This circuit acts as a low-pass filter: you send a signal in on the left, and it comes out filtered on the right. Using Ohm’s law and the laws governing capacitors, and assuming that the output load has very high impedance (so that a negligible amount of current flows through it), we can write down the equations governing this circuit as follows. Let I be the current that flows through R and into the capacitor, and let Q be the charge on the capacitor. Then\n",
    "\n",
    "$$ IR = V_{in} − V_{out}$$\n",
    "$$ Q = CV_{out} $$\n",
    "$$ I = \\frac{dQ}{dt} $$\n",
    "\n",
    "Substituting the second equation into the third, then substituting that result into the first equation, we find that the voltage dynamics can be described as\n",
    "$$ \\frac{dV_{out}}{dt} = \\frac{1}{RC}(V_{in}-V_{out}). $$"
   ],
   "metadata": {
    "collapsed": false
   }
  },
  {
   "cell_type": "markdown",
   "source": [
    "A) Write a program to solve this equation for Vout (t) using the fourth-order Runge-Kutta method when the input signal is a square wave with frequency 1 and amplitude 1, i.e.\n",
    "$$ V_{in}(t)=\\left\\{\n",
    "    \\begin{array}{rl}\n",
    "1&\\mbox{if }\\lfloor 2t\\rfloor \\mbox{ is even}\\\\\n",
    "-1&\\mbox{if }\\lfloor 2t \\rfloor \\mbox{ is odd}\\\\\n",
    "\\end{array}\n",
    "\\right.\n",
    "$$\n",
    "Use the program to make plots of the output of the filter circuit from $t = 0$ to $t = 10$ when R = 0.01, 0.1, and 1, with initial condition $V_{out} = 0.$ You will have to make a decision about what value of ∆t to use in your calculation. Small values give more accurate results, but the program will take longer to run. Try a variety of different values and choose one for your final calculations that seems sensible to you."
   ],
   "metadata": {
    "collapsed": false
   }
  },
  {
   "cell_type": "code",
   "execution_count": null,
   "metadata": {
    "collapsed": true
   },
   "outputs": [],
   "source": [
    "from nm4p import rk4\n",
    "import numpy as np\n",
    "def square_wave(t):\n",
    "    \"\"\"Returns the specified square wave when give the time in seconds\n",
    "    Params:\n",
    "    t - the current time in seconds\n",
    "    Returns:\n",
    "        The square wave defined  evaluated at time t\"\"\"\n",
    "    sqrwave = (-1)**(np.floor(2*t)% 2)\n",
    "    return sqrwave\n",
    "\n",
    "def v_out_derivs(x, t, r, c, v_in):\n",
    "    \"\"\"Generates the derivative for use in the rk4 routine at using the given parameters, such as the time to evaluate the derivative\n",
    "    Params:\n",
    "    x - the current value of V_out\n",
    "    t- the current time t\n",
    "    R - the resistance of the resistor in the circuit\n",
    "    C- the Capacitance of the capacitor in the circuit\n",
    "    V_in - the input voltage function which to be evaluated at the current time t \"\"\"\n",
    "    deriv = 1/(r*c)*(v_in(t)-x)\n",
    "    return deriv\n",
    "def lowpass_circuit(duration,v_in,v_out_init,r,c):\n",
    "    \"\"\"A circuit that simulates and plots a low pass filter using rk4 and hte differential equaiton provided above\n",
    "\n",
    "    Params:\n",
    "    duration - how many simulated seconds the simulation should be evaluated for\n",
    "    v_in - a function v_in(t) that specifies the input voltage the simulator should use\n",
    "    v_out_init - the initial value for the output voltage of hte circuit-- v_out at t=0\n",
    "    r - the resistance of the resistor in the simulated circuit\n",
    "    c - the capacitance of the capacitor in the simulated circuit\n",
    "    Returns:\n",
    "        returns no output but plots v_out from time 0 to the specified number of simulated seconds\n",
    "    \"\"\"\n"
   ]
  },
  {
   "cell_type": "markdown",
   "source": [
    "B) Based on the graphs produced by your program, describe what you see and explain what the circuit is doing."
   ],
   "metadata": {
    "collapsed": false
   }
  },
  {
   "cell_type": "code",
   "execution_count": null,
   "outputs": [],
   "source": [],
   "metadata": {
    "collapsed": false
   }
  }
 ],
 "metadata": {
  "kernelspec": {
   "display_name": "Python 3",
   "language": "python",
   "name": "python3"
  },
  "language_info": {
   "codemirror_mode": {
    "name": "ipython",
    "version": 2
   },
   "file_extension": ".py",
   "mimetype": "text/x-python",
   "name": "python",
   "nbconvert_exporter": "python",
   "pygments_lexer": "ipython2",
   "version": "2.7.6"
  }
 },
 "nbformat": 4,
 "nbformat_minor": 0
}
