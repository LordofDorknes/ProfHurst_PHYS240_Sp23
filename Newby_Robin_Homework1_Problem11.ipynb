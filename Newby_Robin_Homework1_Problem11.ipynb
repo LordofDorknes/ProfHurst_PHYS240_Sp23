{
 "cells": [
  {
   "cell_type": "markdown",
   "source": [
    "Problem 11 a)"
   ],
   "metadata": {
    "collapsed": false
   }
  },
  {
   "cell_type": "code",
   "execution_count": 8,
   "metadata": {
    "collapsed": true
   },
   "outputs": [
    {
     "name": "stdout",
     "output_type": "stream",
     "text": [
      "494.62 MeV\n"
     ]
    }
   ],
   "source": [
    "import numpy as np\n",
    "def BindingEnergy(Z,A):\n",
    "    a1=15.67 #MeV\n",
    "    a2=17.23 #MeV\n",
    "    a3=0.75 #MeV\n",
    "    a4=93.2 #MeV\n",
    "    if(A % 2): #if A is odd\n",
    "        a5=0 #MeV\n",
    "    elif(Z % 2): #if A is even but Z is odd\n",
    "        a5=-12 #MeV\n",
    "    else: #if A and Z are both even\n",
    "        a5=12 #MeV\n",
    "    a5=17.23 #MeV\n",
    "\n",
    "    B = a1*A - a2* (A**(2/3)) -a3*(Z*Z)/(A**(1/3))-(a4*(A-2*Z)**2)/A + a5/(A**(1/2))\n",
    "    return B\n",
    "testIsotopeBindingEnergy=BindingEnergy(A=58,Z=28)\n",
    "print(\"{0:.2f} MeV\".format(testIsotopeBindingEnergy))"
   ]
  },
  {
   "cell_type": "markdown",
   "source": [
    "This number is close to the expected 490MeV\n",
    "I will now begin part b, creating a function to find hte binding energy per nucleon.\n",
    "\n",
    "Problem 11 b)"
   ],
   "metadata": {
    "collapsed": false
   }
  },
  {
   "cell_type": "code",
   "execution_count": 9,
   "outputs": [
    {
     "name": "stdout",
     "output_type": "stream",
     "text": [
      "8.53 MeV per Nucleon\n"
     ]
    }
   ],
   "source": [
    "def BindingEnergyPerNucleon(Z,A):\n",
    "    BN = BindingEnergy(Z=Z,A=A)/A\n",
    "    return BN\n",
    "testIsotopeBindingEnergyPerNucleon=BindingEnergyPerNucleon(A=58,Z=28)\n",
    "print(\"{0:.2f} MeV per Nucleon\".format(testIsotopeBindingEnergyPerNucleon))"
   ],
   "metadata": {
    "collapsed": false
   }
  },
  {
   "cell_type": "markdown",
   "source": [
    "The program finds the binding energy per nucleon now, as expected.\n",
    "\n",
    "Problem 11 c)"
   ],
   "metadata": {
    "collapsed": false
   }
  }
 ],
 "metadata": {
  "kernelspec": {
   "display_name": "Python 3",
   "language": "python",
   "name": "python3"
  },
  "language_info": {
   "codemirror_mode": {
    "name": "ipython",
    "version": 2
   },
   "file_extension": ".py",
   "mimetype": "text/x-python",
   "name": "python",
   "nbconvert_exporter": "python",
   "pygments_lexer": "ipython2",
   "version": "2.7.6"
  }
 },
 "nbformat": 4,
 "nbformat_minor": 0
}
