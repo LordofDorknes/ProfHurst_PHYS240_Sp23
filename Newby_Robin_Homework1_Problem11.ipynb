{
 "cells": [
  {
   "cell_type": "markdown",
   "source": [
    "Problem 11 a)"
   ],
   "metadata": {
    "collapsed": false
   }
  },
  {
   "cell_type": "code",
   "execution_count": 199,
   "metadata": {
    "collapsed": true
   },
   "outputs": [
    {
     "name": "stdout",
     "output_type": "stream",
     "text": [
      "493.94 MeV\n"
     ]
    }
   ],
   "source": [
    "import numpy as np\n",
    "def BindingEnergy(Z,A):\n",
    "    a1=15.67 #MeV\n",
    "    a2=17.23 #MeV\n",
    "    a3=0.75 #MeV\n",
    "    a4=93.2 #MeV\n",
    "    if(A % 2): #if A is odd\n",
    "        a5=0 #MeV\n",
    "    elif(Z % 2): #if A is even but Z is odd\n",
    "        a5=-12 #MeV\n",
    "    else: #if A and Z are both even\n",
    "        a5=12 #MeV\n",
    "\n",
    "\n",
    "    B = a1*A - a2* (A**(2/3)) -a3*(Z**2)/(A**(1/3))-(a4*(A-2*Z)**2)/A + a5/(A**(1/2))\n",
    "    return B\n",
    "testIsotopeBindingEnergy=BindingEnergy(A=58,Z=28)\n",
    "print(\"{0:.2f} MeV\".format(testIsotopeBindingEnergy))"
   ]
  },
  {
   "cell_type": "markdown",
   "source": [
    "This number is close to the expected 490MeV\n",
    "I will now begin part b, creating a function to find the binding energy per nucleon.\n",
    "\n",
    "Problem 11 b)"
   ],
   "metadata": {
    "collapsed": false
   }
  },
  {
   "cell_type": "code",
   "execution_count": 200,
   "outputs": [
    {
     "name": "stdout",
     "output_type": "stream",
     "text": [
      "8.52 MeV per Nucleon\n"
     ]
    }
   ],
   "source": [
    "def BindingEnergyPerNucleon(Z,A):\n",
    "    BN = BindingEnergy(Z=Z,A=A)/A\n",
    "    return BN\n",
    "testIsotopeBindingEnergyPerNucleon=BindingEnergyPerNucleon(A=58,Z=28)\n",
    "print(\"{0:.2f} MeV per Nucleon\".format(testIsotopeBindingEnergyPerNucleon))"
   ],
   "metadata": {
    "collapsed": false
   }
  },
  {
   "cell_type": "markdown",
   "source": [
    "The program finds the binding energy per nucleon now, as expected.\n",
    "\n",
    "Problem 11 c)"
   ],
   "metadata": {
    "collapsed": false
   }
  },
  {
   "cell_type": "code",
   "execution_count": 201,
   "outputs": [
    {
     "data": {
      "text/plain": "(47, 8.51427985673783)"
     },
     "execution_count": 201,
     "metadata": {},
     "output_type": "execute_result"
    }
   ],
   "source": [
    "def FindStablest(Z):\n",
    "    #initialize variables\n",
    "    stablestIsotope=Z\n",
    "    stablestBindingEnergy=-np.inf\n",
    "    for zIsotope in range(Z,3*Z):\n",
    "        testEnergy=BindingEnergyPerNucleon(Z=Z,A=zIsotope)\n",
    "\n",
    "        if testEnergy > stablestBindingEnergy:\n",
    "            stablestIsotope=zIsotope\n",
    "            stablestBindingEnergy=testEnergy\n",
    "\n",
    "    return stablestIsotope,stablestBindingEnergy\n",
    "\n",
    "FindStablest(23)\n",
    "\n"
   ],
   "metadata": {
    "collapsed": false
   }
  },
  {
   "cell_type": "markdown",
   "source": [
    "Function returns the stablest isotope A for the given Z, as well as its binding energy per nucleon.\n",
    "The numbers seem a bit off, which is slightly unsettling.\n",
    "\n",
    "Part d)"
   ],
   "metadata": {
    "collapsed": false
   }
  },
  {
   "cell_type": "code",
   "execution_count": 202,
   "outputs": [
    {
     "name": "stdout",
     "output_type": "stream",
     "text": [
      "1: 2 with binding energy per nucleon -2.5457384470693594\n",
      "2: 4 with binding energy per nucleon 5.843309761445089\n",
      "3: 6 with binding energy per nucleon 4.752357643495461\n",
      "4: 8 with binding energy per nucleon 6.835330085889912\n",
      "5: 10 with binding energy per nucleon 6.42277121416258\n",
      "6: 12 with binding energy per nucleon 7.450001408063262\n",
      "7: 15 with binding energy per nucleon 7.2759287595854785\n",
      "8: 16 with binding energy per nucleon 7.829219179670832\n",
      "9: 19 with binding energy per nucleon 7.7565457636093065\n",
      "10: 20 with binding energy per nucleon 8.075065994502456\n",
      "11: 23 with binding energy per nucleon 8.047741643605248\n",
      "12: 24 with binding energy per nucleon 8.238691826796318\n",
      "13: 27 with binding energy per nucleon 8.23400548696845\n",
      "14: 28 with binding energy per nucleon 8.347948969539557\n",
      "15: 31 with binding energy per nucleon 8.355316017924503\n",
      "16: 32 with binding energy per nucleon 8.419299763471765\n",
      "17: 35 with binding energy per nucleon 8.433300109655088\n",
      "18: 36 with binding energy per nucleon 8.463130252869773\n",
      "19: 39 with binding energy per nucleon 8.480797498293386\n",
      "20: 41 with binding energy per nucleon 8.495784570724105\n",
      "21: 43 with binding energy per nucleon 8.505969250374267\n",
      "22: 46 with binding energy per nucleon 8.521126546356417\n",
      "23: 47 with binding energy per nucleon 8.51427985673783\n",
      "24: 50 with binding energy per nucleon 8.532622751365931\n",
      "25: 51 with binding energy per nucleon 8.509541272617627\n",
      "26: 54 with binding energy per nucleon 8.529918878483894\n",
      "27: 55 with binding energy per nucleon 8.494502009034267\n",
      "28: 58 with binding energy per nucleon 8.516131151747729\n",
      "29: 59 with binding energy per nucleon 8.471198426724659\n",
      "30: 62 with binding energy per nucleon 8.493539040433166\n",
      "31: 63 with binding energy per nucleon 8.441173961358636\n",
      "32: 66 with binding energy per nucleon 8.463850079532241\n",
      "33: 69 with binding energy per nucleon 8.407023623298558\n",
      "34: 70 with binding energy per nucleon 8.428369633665127\n",
      "35: 73 with binding energy per nucleon 8.378546716689646\n",
      "36: 74 with binding energy per nucleon 8.388113269898794\n",
      "37: 77 with binding energy per nucleon 8.344202808885123\n",
      "38: 78 with binding energy per nucleon 8.343883240098318\n",
      "39: 81 with binding energy per nucleon 8.305002733727862\n",
      "40: 82 with binding energy per nucleon 8.296321819444412\n",
      "41: 85 with binding energy per nucleon 8.261750510640876\n",
      "42: 86 with binding energy per nucleon 8.24594931259649\n",
      "43: 89 with binding energy per nucleon 8.215093312348952\n",
      "44: 92 with binding energy per nucleon 8.19461382681585\n",
      "45: 93 with binding energy per nucleon 8.165557635885968\n",
      "46: 96 with binding energy per nucleon 8.147660087251849\n",
      "47: 97 with binding energy per nucleon 8.113575920303537\n",
      "48: 100 with binding energy per nucleon 8.09792588469997\n",
      "49: 101 with binding energy per nucleon 8.059506427776757\n",
      "50: 104 with binding energy per nucleon 8.045820701666507\n",
      "51: 105 with binding energy per nucleon 8.003648295151866\n",
      "52: 108 with binding energy per nucleon 7.9916857764084135\n",
      "53: 111 with binding energy per nucleon 7.94645235076544\n",
      "54: 112 with binding energy per nucleon 7.935807480620873\n",
      "55: 115 with binding energy per nucleon 7.893842076428151\n",
      "56: 116 with binding energy per nucleon 7.878427690702502\n",
      "57: 119 with binding energy per nucleon 7.839412042376312\n",
      "58: 120 with binding energy per nucleon 7.819751909047517\n",
      "59: 123 with binding energy per nucleon 7.783406816608566\n",
      "60: 124 with binding energy per nucleon 7.759955682578084\n",
      "61: 127 with binding energy per nucleon 7.726035276958766\n",
      "62: 130 with binding energy per nucleon 7.7005459914990935\n",
      "63: 131 with binding energy per nucleon 7.667476698492233\n",
      "64: 134 with binding energy per nucleon 7.643787578247822\n",
      "65: 135 with binding energy per nucleon 7.6078856509526185\n",
      "66: 138 with binding energy per nucleon 7.58583969107545\n",
      "67: 139 with binding energy per nucleon 7.547395967121129\n",
      "68: 142 with binding energy per nucleon 7.526853043899859\n",
      "69: 143 with binding energy per nucleon 7.486123979926559\n",
      "70: 146 with binding energy per nucleon 7.46695869996326\n",
      "71: 149 with binding energy per nucleon 7.427989147781526\n",
      "72: 150 with binding energy per nucleon 7.406271043404146\n",
      "73: 153 with binding energy per nucleon 7.369331436311893\n",
      "74: 154 with binding energy per nucleon 7.344890236341641\n",
      "75: 157 with binding energy per nucleon 7.309833806640477\n",
      "76: 158 with binding energy per nucleon 7.282904261469813\n",
      "77: 161 with binding energy per nucleon 7.249597778869266\n",
      "78: 164 with binding energy per nucleon 7.22310245870899\n",
      "79: 165 with binding energy per nucleon 7.188712895456172\n",
      "80: 168 with binding energy per nucleon 7.163577218102271\n",
      "81: 169 with binding energy per nucleon 7.127258348007435\n",
      "82: 172 with binding energy per nucleon 7.10339061133681\n",
      "83: 173 with binding energy per nucleon 7.065304351415036\n",
      "84: 176 with binding energy per nucleon 7.042620612142927\n",
      "85: 179 with binding energy per nucleon 7.005622315941091\n",
      "86: 180 with binding energy per nucleon 6.981336598852258\n",
      "87: 183 with binding energy per nucleon 6.945898605341501\n",
      "88: 184 with binding energy per nucleon 6.919600438263286\n",
      "89: 187 with binding energy per nucleon 6.885629827659542\n",
      "90: 190 with binding energy per nucleon 6.857606054313791\n",
      "91: 191 with binding energy per nucleon 6.824878368299097\n",
      "92: 194 with binding energy per nucleon 6.7980284984155\n",
      "93: 195 with binding energy per nucleon 6.763700169837886\n",
      "94: 198 with binding energy per nucleon 6.737957421244245\n",
      "95: 199 with binding energy per nucleon 6.702145489317908\n",
      "96: 202 with binding energy per nucleon 6.677447887170413\n",
      "97: 205 with binding energy per nucleon 6.641488369559367\n",
      "98: 206 with binding energy per nucleon 6.616549516348999\n",
      "99: 209 with binding energy per nucleon 6.5818849352304305\n"
     ]
    }
   ],
   "source": [
    "def FindStablestIsotopes():\n",
    "    stablestA=1\n",
    "    bindingEnergyPerNucleon=0\n",
    "    for Z in range(1,100):\n",
    "        stablestA, bindingEnergyPerNucleon=FindStablest(Z)\n",
    "        print(\"{}: {} with binding energy per nucleon {}\".format(Z,stablestA, bindingEnergyPerNucleon))\n",
    "\n",
    "FindStablestIsotopes()"
   ],
   "metadata": {
    "collapsed": false
   }
  }
 ],
 "metadata": {
  "kernelspec": {
   "display_name": "Python 3",
   "language": "python",
   "name": "python3"
  },
  "language_info": {
   "codemirror_mode": {
    "name": "ipython",
    "version": 2
   },
   "file_extension": ".py",
   "mimetype": "text/x-python",
   "name": "python",
   "nbconvert_exporter": "python",
   "pygments_lexer": "ipython2",
   "version": "2.7.6"
  }
 },
 "nbformat": 4,
 "nbformat_minor": 0
}
