{
 "cells": [
  {
   "cell_type": "code",
   "execution_count": 1,
   "metadata": {
    "collapsed": true
   },
   "outputs": [
    {
     "data": {
      "text/plain": "494.6223394452246"
     },
     "execution_count": 1,
     "metadata": {},
     "output_type": "execute_result"
    }
   ],
   "source": [
    "import numpy as np\n",
    "def BindingEnergy(A,Z):\n",
    "    a1=15.67 #MeV\n",
    "    a2=17.23 #MeV\n",
    "    a3=0.75 #MeV\n",
    "    a4=93.2 #MeV\n",
    "    if(A % 2): #if A is odd\n",
    "        a5=0 #MeV\n",
    "    elif(Z % 2): #if A is even but Z is odd\n",
    "        a5=-12 #MeV\n",
    "    else: #if A and Z are both even\n",
    "        a5=12 #MeV\n",
    "    a5=17.23 #MeV\n",
    "\n",
    "    B = a1*A - a2* (A**(2/3)) -a3*(Z*Z)/(A**(1/3))-(a4*(A-2*Z)**2)/A + a5/(A**(1/2))\n",
    "    return B\n",
    "testIsotopeBindingEnergy=BindingEnergy(A=58,Z=28)\n",
    "print(\"{} MeV\".format(testIsotopeBindingEnergy))"
   ]
  },
  {
   "cell_type": "markdown",
   "source": [
    "This number is close to the expected 490MeV"
   ],
   "metadata": {
    "collapsed": false
   }
  },
  {
   "cell_type": "code",
   "execution_count": null,
   "outputs": [],
   "source": [],
   "metadata": {
    "collapsed": false
   }
  }
 ],
 "metadata": {
  "kernelspec": {
   "display_name": "Python 3",
   "language": "python",
   "name": "python3"
  },
  "language_info": {
   "codemirror_mode": {
    "name": "ipython",
    "version": 2
   },
   "file_extension": ".py",
   "mimetype": "text/x-python",
   "name": "python",
   "nbconvert_exporter": "python",
   "pygments_lexer": "ipython2",
   "version": "2.7.6"
  }
 },
 "nbformat": 4,
 "nbformat_minor": 0
}
