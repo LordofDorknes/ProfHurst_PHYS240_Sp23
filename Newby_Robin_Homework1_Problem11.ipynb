{
 "cells": [
  {
   "cell_type": "code",
   "execution_count": null,
   "metadata": {
    "collapsed": true
   },
   "outputs": [],
   "source": [
    "import numpy as np\n",
    "def BindingEnergy(Z,A):\n",
    "    a1=15.67 #MeV\n",
    "    a2=17.23 #MeV\n",
    "    a3=0.75 #MeV\n",
    "    a4=93.2 #MeV\n",
    "    if(A % 2): #if A is odd\n",
    "        a5=0 #MeV\n",
    "    elif(Z % 2): #if A is even but Z is odd\n",
    "        a5=-12 #MeV\n",
    "    else: #if A and Z are both even\n",
    "        a5=12 #MeV\n",
    "    a5=17.23 #MeV\n",
    "\n",
    "    B = a1*A - a2* (A**(2/3))\n"
   ]
  }
 ],
 "metadata": {
  "kernelspec": {
   "display_name": "Python 3",
   "language": "python",
   "name": "python3"
  },
  "language_info": {
   "codemirror_mode": {
    "name": "ipython",
    "version": 2
   },
   "file_extension": ".py",
   "mimetype": "text/x-python",
   "name": "python",
   "nbconvert_exporter": "python",
   "pygments_lexer": "ipython2",
   "version": "2.7.6"
  }
 },
 "nbformat": 4,
 "nbformat_minor": 0
}
