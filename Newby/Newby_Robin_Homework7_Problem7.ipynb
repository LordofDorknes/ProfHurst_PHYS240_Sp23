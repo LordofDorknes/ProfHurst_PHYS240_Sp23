{
 "cells": [
  {
   "cell_type": "markdown",
   "source": [
    "Part 1: Curve Fitting"
   ],
   "metadata": {
    "collapsed": false
   }
  },
  {
   "cell_type": "markdown",
   "source": [
    "Problem 1\n",
    "\n",
    "The data set in the file curve_data.txt was generated from either a polynomial or a\n",
    "sine function y(x) = C + A ∗ sin(x). Can you recover the correct function?\n",
    "\n"
   ],
   "metadata": {
    "collapsed": false
   }
  },
  {
   "cell_type": "code",
   "execution_count": null,
   "metadata": {
    "collapsed": true
   },
   "outputs": [],
   "source": []
  },
  {
   "cell_type": "markdown",
   "source": [
    "(a) Use the numpy function \"loadtxt\" to read in the data file and plot the data\n",
    "including error bars.\n"
   ],
   "metadata": {
    "collapsed": false
   }
  },
  {
   "cell_type": "code",
   "execution_count": null,
   "outputs": [],
   "source": [],
   "metadata": {
    "collapsed": false
   }
  },
  {
   "cell_type": "markdown",
   "source": [
    "(b) Fit a polynomial to the data and calculate the χ2 value. You may use an lmfit\n",
    "routine or your own routine. Used the reduced χ2 to decide on the polynomial\n",
    "degree. Plot the best-fit model curve on top of the data set, including a legend.\n"
   ],
   "metadata": {
    "collapsed": false
   }
  },
  {
   "cell_type": "code",
   "execution_count": null,
   "outputs": [],
   "source": [],
   "metadata": {
    "collapsed": false
   }
  },
  {
   "cell_type": "markdown",
   "source": [
    "(c) Now, fit the data with a sine function. You will have to figure out a variable\n",
    "transformation in order to use a linear fitting model.\n"
   ],
   "metadata": {
    "collapsed": false
   }
  },
  {
   "cell_type": "code",
   "execution_count": null,
   "outputs": [],
   "source": [],
   "metadata": {
    "collapsed": false
   }
  },
  {
   "cell_type": "markdown",
   "source": [
    "\n",
    "(d) Compare the reduced χ2 between parts b and c. Which is the preferred model?\n",
    "Does that agree with what your eye tells you?"
   ],
   "metadata": {
    "collapsed": false
   }
  },
  {
   "cell_type": "markdown",
   "source": [
    "Problem 2:\n",
    "Consider the following stock market data of Dow Jones Averages:\n",
    "Day  1    2    3    4    5\n",
    "DJA 2470 2510 2410 2350 2240\n",
    "(a) Assuming constant error bars, fit this data to polynomials from a straight line to\n",
    "a quartic (which will exactly fit the five data points)."
   ],
   "metadata": {
    "collapsed": false
   }
  },
  {
   "cell_type": "code",
   "execution_count": null,
   "outputs": [],
   "source": [],
   "metadata": {
    "collapsed": false
   }
  },
  {
   "cell_type": "markdown",
   "source": [
    "(b) Plot these polynomials from day 1 to 6; the sixth day is October 19, 1987, when\n",
    "the market dropped 500 points. Comment on what this exercise tells us about the\n",
    "limitations of curve fitting."
   ],
   "metadata": {
    "collapsed": false
   }
  },
  {
   "cell_type": "code",
   "execution_count": null,
   "outputs": [],
   "source": [],
   "metadata": {
    "collapsed": false
   }
  },
  {
   "cell_type": "markdown",
   "source": [
    "Problem 7:\n",
    "Iterative matrix inversion\n",
    "Gaussian elimination is not the only way to compute the inverse of a matrix. Consider the iterative scheme (derived using Newton’s method):\n",
    "\n",
    "$$X_{n+1} = 2 X_n − X_n A X_n$$\n",
    "where $X_1$ is the initial guess for $A^{−1}$.\n",
    "Write a computer program that uses this scheme to compute the inverse of a matrix.\n",
    "Test your program with a few matrices, including some that are singular, and comment on your results.\n",
    "How good does your initial guess have to be?\n",
    "When might this scheme be preferable to Gaussian elimination?"
   ],
   "metadata": {
    "collapsed": false
   }
  }
 ],
 "metadata": {
  "kernelspec": {
   "display_name": "Python 3",
   "language": "python",
   "name": "python3"
  },
  "language_info": {
   "codemirror_mode": {
    "name": "ipython",
    "version": 2
   },
   "file_extension": ".py",
   "mimetype": "text/x-python",
   "name": "python",
   "nbconvert_exporter": "python",
   "pygments_lexer": "ipython2",
   "version": "2.7.6"
  }
 },
 "nbformat": 4,
 "nbformat_minor": 0
}
