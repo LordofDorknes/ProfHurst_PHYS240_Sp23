{
 "cells": [
  {
   "cell_type": "markdown",
   "source": [
    "Week 9: PDEs"
   ],
   "metadata": {
    "collapsed": false
   }
  },
  {
   "cell_type": "markdown",
   "source": [
    "The Earth’s ground temperature just below the surface can be treated as a diffusion problem with time-varying boundary conditions, as the mean surface temperature changes on a timescale of months.\n",
    "Use dftcs.py as a starting point for a program to model the time-dependent temperature profile of the surface, i.e. T (z, t) where z is the depth.\n",
    " Run your simulation up to a depth of 20 m."
   ],
   "metadata": {
    "collapsed": false
   }
  },
  {
   "cell_type": "code",
   "execution_count": null,
   "metadata": {
    "collapsed": true
   },
   "outputs": [],
   "source": []
  },
  {
   "cell_type": "markdown",
   "source": [
    "a) The thermal diffusion coefficient is κ = 0.1 m2 day−1. What is the expected diffusion timescale tD ?"
   ],
   "metadata": {
    "collapsed": false
   }
  },
  {
   "cell_type": "code",
   "execution_count": null,
   "outputs": [],
   "source": [],
   "metadata": {
    "collapsed": false
   }
  },
  {
   "cell_type": "markdown",
   "source": [
    "b) The initial conditions are T = 10◦ C everywhere except at the boundaries. The boundary conditions are T = 11◦ C at a depth of 20 m (owing to heat from the core) and T = 10◦ C at the surface. Implement these boundary conditions in your program."
   ],
   "metadata": {
    "collapsed": false
   }
  },
  {
   "cell_type": "code",
   "execution_count": null,
   "outputs": [],
   "source": [],
   "metadata": {
    "collapsed": false
   }
  },
  {
   "cell_type": "markdown",
   "source": [
    "c) Choose reasonable values for the space and time intervals and the number of spatial grid points.\n",
    "Justify your choices in your write-up.\n",
    "Run the system forward in time and discuss the results.\n",
    "Confirm that the final temperature profile is as one would expect after a time tD."
   ],
   "metadata": {
    "collapsed": false
   }
  },
  {
   "cell_type": "code",
   "execution_count": null,
   "outputs": [],
   "source": [],
   "metadata": {
    "collapsed": false
   }
  },
  {
   "cell_type": "markdown",
   "source": [
    "Challenge question: Now, change the surface temperature boundary condition to be the following function of time:\n",
    "\n",
    "$$T(t) = A + B\\,sin \\bigl( \\frac{2\\pi t}{\\tau} \\bigr) $$\n",
    "where A = 10 C, B = 12 C, and $\\tau$ = 365 days.\n",
    "Run the system long enough for it to settle down into a stable pattern, then plot T (z) for each for the 4 seasons."
   ],
   "metadata": {
    "collapsed": false
   }
  },
  {
   "cell_type": "code",
   "execution_count": null,
   "outputs": [],
   "source": [],
   "metadata": {
    "collapsed": false
   }
  }
 ],
 "metadata": {
  "kernelspec": {
   "display_name": "Python 3",
   "language": "python",
   "name": "python3"
  },
  "language_info": {
   "codemirror_mode": {
    "name": "ipython",
    "version": 2
   },
   "file_extension": ".py",
   "mimetype": "text/x-python",
   "name": "python",
   "nbconvert_exporter": "python",
   "pygments_lexer": "ipython2",
   "version": "2.7.6"
  }
 },
 "nbformat": 4,
 "nbformat_minor": 0
}
