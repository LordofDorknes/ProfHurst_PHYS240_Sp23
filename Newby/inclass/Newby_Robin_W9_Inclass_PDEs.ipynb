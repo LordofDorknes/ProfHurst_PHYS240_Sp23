{
 "cells": [
  {
   "cell_type": "markdown",
   "source": [
    "Week 9: PDEs"
   ],
   "metadata": {
    "collapsed": false
   }
  },
  {
   "cell_type": "markdown",
   "source": [
    "The Earth’s ground temperature just below the surface can be treated as a diffusion problem with time-varying boundary conditions, as the mean surface temperature changes on a timescale of months.\n",
    "Use dftcs.py as a starting point for a program to model the time-dependent temperature profile of the surface, i.e. T (z, t) where z is the depth.\n",
    " Run your simulation up to a depth of 20 m."
   ],
   "metadata": {
    "collapsed": false
   }
  },
  {
   "cell_type": "code",
   "execution_count": null,
   "metadata": {
    "collapsed": true
   },
   "outputs": [],
   "source": [
    "# dftcs - Program to solve the diffusion equation using Forward Time Centered Space (FTCS) scheme\n",
    "\n",
    "# Set up configuration options and special features\n",
    "from mpl_toolkits.mplot3d import Axes3D\n",
    "import numpy as np\n",
    "import matplotlib.pyplot as plt\n",
    "from matplotlib import cm\n",
    "\n",
    "\n",
    "\n",
    "# Initialize parameters (time step, grid spacing, etc.)\n",
    "tau = eval(input('Enter time step: '))\n",
    "N = eval(input('Enter the number of grid points: '))\n",
    "L = 1.0  # The system extends from x = -L/2 to L/2\n",
    "h = L/(N-1)  # Grid size dx\n",
    "kappa = 1.0  # Diffusion coefficient\n",
    "coeff = kappa*tau/h**2\n",
    "t_natural = h**2/(2*kappa)\n",
    "\n",
    "print('Natural time scale: {0:.2e}'.format(h**2/(2*kappa)))\n",
    "\n",
    "if coeff < 0.5:\n",
    "    print('Solution is expected to be stable.')\n",
    "else:\n",
    "    print('Warning! Solution is expected to be unstable. Consider smaller dt or larger dx.')\n",
    "\n",
    "\n",
    "# Set initial and boundary conditions.\n",
    "tt = np.zeros(N)  # Initialize temperature to be zero at all points.\n",
    "tt[int(N/2)] = 1.0/h  # Set initial condition: delta function of high temperature in the center\n",
    "# The boundary conditions are tt[0] = tt[N-1] = 0\n",
    "\n",
    "# Set up loop and plot variables.\n",
    "xplot = np.arange(N)*h - L/2.0  # Record the x scale for plots\n",
    "iplot = 0  # Counter used to count plots\n",
    "nstep = 300  # Maximum number of iterations\n",
    "nplots = 50  # Number of snapshots (plots) to take\n",
    "plot_step = nstep/nplots  # Number of time steps between plots\n",
    "\n",
    "# Loop over the desired number of time steps.\n",
    "ttplot = np.empty((N, nplots))\n",
    "tplot = np.empty(nplots)\n",
    "\n",
    "## MAIN LOOP ##\n",
    "for istep in range(nstep):\n",
    "    # Compute new temperature using FTCS scheme. All points in space are updated at once.\n",
    "    # Note that the endpoints (boundary) is not updated.\n",
    "    tt[1:N-1] = tt[1:N-1] + coeff*(tt[2:N] + tt[0:N-2] - 2*tt[1:N-1])\n",
    "\n",
    "    # Periodically record temperature for plotting.\n",
    "    if (istep + 1) % plot_step < 1:  # record data for plot every plot_step number of steps. Don't record first step.\n",
    "        ttplot[:, iplot] = np.copy(tt)  # record a copy of tt(i) for plotting\n",
    "        tplot[iplot] = (istep+1)*tau  # record time for plots\n",
    "        iplot += 1\n",
    "\n",
    "# Plot temperature versus x and t as a wire-mesh plot\n",
    "fig = plt.figure()\n",
    "ax = fig.add_subplot(projection='3d')\n",
    "Tp, Xp = np.meshgrid(tplot, xplot)\n",
    "ax.plot_surface(Tp, Xp, ttplot, rstride=2, cstride=2, cmap='YlGn')\n",
    "ax.set_xlabel('Time')\n",
    "ax.set_ylabel('x')\n",
    "ax.set_zlabel(r'T(x,t)')\n",
    "ax.set_title('Diffusion of a delta spike')\n",
    "\n",
    "# Plot temperature versus x and t as a contour plot\n",
    "fig2, ax2 = plt.subplots()\n",
    "levels = np.linspace(0.0, 10.0, num=21)\n",
    "ct = ax2.contour(tplot, xplot, ttplot, levels)\n",
    "ax2.clabel(ct, fmt='%1.2f')\n",
    "ax2.set_xlabel('Time')\n",
    "ax2.set_ylabel('x')\n",
    "ax2.set_title('Temperature contour plot')\n",
    "\n",
    "# Plot 1D slices of the temperature distribution vs. space at short and long times\n",
    "fig3, ax3 =plt.subplots()\n",
    "ax3.set_title(r'Bar temperature profile at $\\Delta t = {0:.2e}t_a$'.format(tau/t_natural))\n",
    "ax3.plot(xplot, ttplot[:, 1], label='{0:.2e}'.format(tplot[1]))\n",
    "ax3.plot(xplot, ttplot[:, 10], label='{0:.2e}'.format(tplot[10]))\n",
    "ax3.plot(xplot, ttplot[:, 25], label='{0:.2e}'.format(tplot[25]))\n",
    "ax3.plot(xplot, ttplot[:, -1], label='{0:.2e}'.format(tplot[-1]))\n",
    "ax3.legend(title=r'$t$')\n",
    "ax3.set_xlabel(r'$x$')\n",
    "ax3.set_ylabel(r'$T(x, t)$')\n",
    "\n",
    "plt.show()\n"
   ]
  },
  {
   "cell_type": "markdown",
   "source": [
    "a) The thermal diffusion coefficient is κ = 0.1 m2 day−1. What is the expected diffusion timescale tD ?"
   ],
   "metadata": {
    "collapsed": false
   }
  },
  {
   "cell_type": "code",
   "execution_count": null,
   "outputs": [],
   "source": [],
   "metadata": {
    "collapsed": false
   }
  },
  {
   "cell_type": "markdown",
   "source": [
    "b) The initial conditions are T = 10◦ C everywhere except at the boundaries. The boundary conditions are T = 11◦ C at a depth of 20 m (owing to heat from the core) and T = 10◦ C at the surface. Implement these boundary conditions in your program."
   ],
   "metadata": {
    "collapsed": false
   }
  },
  {
   "cell_type": "code",
   "execution_count": null,
   "outputs": [],
   "source": [],
   "metadata": {
    "collapsed": false
   }
  },
  {
   "cell_type": "markdown",
   "source": [
    "c) Choose reasonable values for the space and time intervals and the number of spatial grid points.\n",
    "Justify your choices in your write-up.\n",
    "Run the system forward in time and discuss the results.\n",
    "Confirm that the final temperature profile is as one would expect after a time tD."
   ],
   "metadata": {
    "collapsed": false
   }
  },
  {
   "cell_type": "code",
   "execution_count": null,
   "outputs": [],
   "source": [],
   "metadata": {
    "collapsed": false
   }
  },
  {
   "cell_type": "markdown",
   "source": [
    "Challenge question: Now, change the surface temperature boundary condition to be the following function of time:\n",
    "\n",
    "$$T(t) = A + B\\,sin \\bigl( \\frac{2\\pi t}{\\tau} \\bigr) $$\n",
    "where A = 10 C, B = 12 C, and $\\tau$ = 365 days.\n",
    "Run the system long enough for it to settle down into a stable pattern, then plot T (z) for each for the 4 seasons."
   ],
   "metadata": {
    "collapsed": false
   }
  },
  {
   "cell_type": "code",
   "execution_count": null,
   "outputs": [],
   "source": [],
   "metadata": {
    "collapsed": false
   }
  }
 ],
 "metadata": {
  "kernelspec": {
   "display_name": "Python 3",
   "language": "python",
   "name": "python3"
  },
  "language_info": {
   "codemirror_mode": {
    "name": "ipython",
    "version": 2
   },
   "file_extension": ".py",
   "mimetype": "text/x-python",
   "name": "python",
   "nbconvert_exporter": "python",
   "pygments_lexer": "ipython2",
   "version": "2.7.6"
  }
 },
 "nbformat": 4,
 "nbformat_minor": 0
}
