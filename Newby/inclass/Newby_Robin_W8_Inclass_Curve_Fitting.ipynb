{
 "cells": [
  {
   "cell_type": "markdown",
   "source": [
    "Week 8: Curve Fitting"
   ],
   "metadata": {
    "collapsed": false
   }
  },
  {
   "cell_type": "markdown",
   "source": [
    "You may use the example scripts in the class repository as a starting point for the exercises below.\n",
    " When doing the fits, you can use the lmfit package as in lmfit-demo.py or you may use the pollsf function from Garcia in the nm4p package.\n",
    "  Note that pollsf has not been de-bugged."
   ],
   "metadata": {
    "collapsed": false
   }
  },
  {
   "cell_type": "markdown",
   "source": [
    "Problem 1\n",
    "\n",
    "In some problems we know on physical grounds that the curve must intercept the origin.\n",
    "Write a function that fits a data set to the equation\n",
    "\n",
    "$$Y(x;a,a_0,a_1) = a_0\\,x + a_1\\,x^2$$"
   ],
   "metadata": {
    "collapsed": false
   }
  },
  {
   "cell_type": "code",
   "execution_count": null,
   "metadata": {
    "collapsed": true
   },
   "outputs": [],
   "source": [
    "import lmfit_demo\n"
   ]
  },
  {
   "cell_type": "markdown",
   "source": [
    "Problem 2\n",
    "\n",
    "Use this equation to fit the trajectories obtained from balle.py for the initial condition $y_0 = 0$ from Section 2.1.\n",
    "Try a variety of values for the initial velocity (at least 3) and keep the initial angle equal to 45 degrees.\n",
    "For each initial velocity, fit the curve for the case with and without air resistance.\n",
    "You should include at least 1 case where air resistance is significant."
   ],
   "metadata": {
    "collapsed": false
   }
  },
  {
   "cell_type": "code",
   "execution_count": null,
   "outputs": [],
   "source": [
    "import balle\n"
   ],
   "metadata": {
    "collapsed": false
   }
  },
  {
   "cell_type": "markdown",
   "source": [
    "Challenge Question:\n",
    "What is the largest velocity for which a parabola accurately fits the data?\n",
    "How do you know when your fit becomes inaccurate?"
   ],
   "metadata": {
    "collapsed": false
   }
  },
  {
   "cell_type": "code",
   "execution_count": null,
   "outputs": [],
   "source": [],
   "metadata": {
    "collapsed": false
   }
  }
 ],
 "metadata": {
  "kernelspec": {
   "display_name": "Python 3",
   "language": "python",
   "name": "python3"
  },
  "language_info": {
   "codemirror_mode": {
    "name": "ipython",
    "version": 2
   },
   "file_extension": ".py",
   "mimetype": "text/x-python",
   "name": "python",
   "nbconvert_exporter": "python",
   "pygments_lexer": "ipython2",
   "version": "2.7.6"
  }
 },
 "nbformat": 4,
 "nbformat_minor": 0
}
