{
 "cells": [
  {
   "cell_type": "markdown",
   "source": [
    "# Carnot refrigerator\n",
    "\n",
    "Our refrigerator is about 2 m×1 m×1 m, and has insulation about 3 cm thick. The insulation is probably polyurethane, which has a thermal conductivity of about 0.02 W/m K. Assume that the refrigerator interior is at 270 K, and the room is at 300 K.\n",
    "\n",
    "a) How many watts of energy leak from our refrigerator through this insulation?"
   ],
   "metadata": {
    "collapsed": false
   }
  },
  {
   "cell_type": "markdown",
   "source": [
    "Beginning with the equation for heat flow,\n",
    "\n",
    "$$\\dot{q} = - k \\nabla T$$\n",
    "\n",
    "With $\\dot{q}$ being the heat flux (energy per area per unit time) into the fridge, $k$ being the thermal conductivity, and $\\nabla T $ being the gradient of the temperature.\n",
    "\n",
    "We know that the boundaries of the fridge's insulation have outside temperature $T_{env}$ and internal temperature $T_{fridge}$, we can write:\n",
    "\n",
    "$$\\nabla T = \\frac{\\Delta T}{L} $$\n",
    "\n",
    "which is not only true in the coarse sense, but also true throughout the thickness of the wall. The solution to the heat equation between two temperatures and without any sources is linear between the boundary temperatures. Substituting this in, we get:\n",
    "\n",
    "$$\\dot{q} = -\\frac{k \\Delta T}{L} $$\n",
    "\n",
    "To get the amount of heat transfer per unit time $\\dot{Q}$, we must now multiple $\\dot{q}$, the heat transfer per unit area by the area over which this heat transfer is occurring.\n",
    "\n",
    "$$\\dot{Q} = A \\dot{q} = -\\frac{A k \\Delta T}{L} $$\n",
    "\n",
    "\n"
   ],
   "metadata": {
    "collapsed": false
   }
  },
  {
   "cell_type": "code",
   "execution_count": 7,
   "metadata": {
    "collapsed": true,
    "ExecuteTime": {
     "end_time": "2023-05-08T04:25:53.927238100Z",
     "start_time": "2023-05-08T04:25:53.904740200Z"
    }
   },
   "outputs": [
    {
     "name": "stdout",
     "output_type": "stream",
     "text": [
      "200 Watts entering the fridge.\n"
     ]
    }
   ],
   "source": [
    "A = 4*2*1 + 2*(1*1) #area in meters^2\n",
    "\n",
    "k= 0.02 # thermal conductivity in W/(m K)\n",
    "\n",
    "T_fridge= 270# Kelvin\n",
    "T_env=300 #Kelvin\n",
    "dT= T_fridge-T_env\n",
    "\n",
    "L=0.03 #meters\n",
    "\n",
    "Q_dot=-A*k*dT/L\n",
    "print(f'{Q_dot:.0f} Watts entering the fridge.')"
   ]
  },
  {
   "cell_type": "markdown",
   "source": [
    "Our refrigerator runs at 120 V, and draws a maximum of 4.75 amps. The compressor motor turns on every once in a while for a few minutes.\n",
    "\n",
    "b) Suppose (i) we do not open the refrigerator door, (ii) the thermal losses are dominated by the leakage through the foam and not through the seals around the doors, and (iii) the refrigerator runs as a perfectly efficient Carnot cycle. How much power on average will our refrigerator need to operate? What fraction of the time will the motor run?"
   ],
   "metadata": {
    "collapsed": false
   }
  },
  {
   "cell_type": "markdown",
   "source": [
    "We can start by finding the power drained by the refrigerator from the wall socket when it is running. This total energy consumption is equal to\n",
    "$$P = IV $$\n",
    "This means the total possible power consumption of the fridge is:"
   ],
   "metadata": {
    "collapsed": false
   }
  },
  {
   "cell_type": "code",
   "execution_count": 8,
   "outputs": [
    {
     "name": "stdout",
     "output_type": "stream",
     "text": [
      "570.0 Watts\n"
     ]
    }
   ],
   "source": [
    "I=4.75 #Amps\n",
    "V=120# Volts\n",
    "P= I*V #Watts\n",
    "print(f'{P} Watts')"
   ],
   "metadata": {
    "collapsed": false,
    "ExecuteTime": {
     "end_time": "2023-05-08T04:25:53.965747800Z",
     "start_time": "2023-05-08T04:25:53.922739700Z"
    }
   }
  },
  {
   "cell_type": "markdown",
   "source": [],
   "metadata": {
    "collapsed": false
   }
  },
  {
   "cell_type": "code",
   "execution_count": 8,
   "outputs": [],
   "source": [],
   "metadata": {
    "collapsed": false,
    "ExecuteTime": {
     "end_time": "2023-05-08T04:25:53.971748300Z",
     "start_time": "2023-05-08T04:25:53.937239500Z"
    }
   }
  }
 ],
 "metadata": {
  "kernelspec": {
   "display_name": "Python 3",
   "language": "python",
   "name": "python3"
  },
  "language_info": {
   "codemirror_mode": {
    "name": "ipython",
    "version": 2
   },
   "file_extension": ".py",
   "mimetype": "text/x-python",
   "name": "python",
   "nbconvert_exporter": "python",
   "pygments_lexer": "ipython2",
   "version": "2.7.6"
  }
 },
 "nbformat": 4,
 "nbformat_minor": 0
}
