{
 "cells": [
  {
   "cell_type": "markdown",
   "source": [
    "# Carnot refrigerator\n",
    "\n",
    "Our refrigerator is about 2 m×1 m×1 m, and has insulation about 3 cm thick. The insulation is probably polyurethane, which has a thermal conductivity of about 0.02 W/m K. Assume that the refrigerator interior is at 270 K, and the room is at 300 K.\n",
    "\n",
    "#### a) How many watts of energy leak from our refrigerator through this insulation?"
   ],
   "metadata": {
    "collapsed": false
   }
  },
  {
   "cell_type": "markdown",
   "source": [
    "Beginning with the equation for heat flow,\n",
    "\n",
    "$$\\dot{q} = - k \\nabla T$$\n",
    "\n",
    "With $\\dot{q}$ being the heat flux (energy per area per unit time) into the fridge, $k$ being the thermal conductivity, and $\\nabla T $ being the gradient of the temperature.\n",
    "\n",
    "We know that the boundaries of the fridge's insulation have outside temperature $T_{env}$ and internal temperature $T_{fridge}$, we can write:\n",
    "\n",
    "$$\\nabla T = \\frac{\\Delta T}{L} $$\n",
    "\n",
    "which is not only true in the coarse sense, but also true throughout the thickness of the wall. The solution to the heat equation between two temperatures and without any sources is linear between the boundary temperatures. Substituting this in, we get:\n",
    "\n",
    "$$\\dot{q} = -\\frac{k \\Delta T}{L} $$\n",
    "\n",
    "To get the amount of heat transfer per unit time $\\dot{Q}$, we must now multiple $\\dot{q}$, the heat transfer per unit area by the area over which this heat transfer is occurring.\n",
    "\n",
    "$$\\dot{Q} = A \\dot{q} = -\\frac{A k \\Delta T}{L} $$\n",
    "\n",
    "\n"
   ],
   "metadata": {
    "collapsed": false
   }
  },
  {
   "cell_type": "code",
   "execution_count": 27,
   "metadata": {
    "collapsed": true,
    "ExecuteTime": {
     "end_time": "2023-05-08T05:08:43.098020600Z",
     "start_time": "2023-05-08T05:08:43.043023900Z"
    }
   },
   "outputs": [
    {
     "name": "stdout",
     "output_type": "stream",
     "text": [
      "200 Watts entering the fridge.\n"
     ]
    }
   ],
   "source": [
    "A = 4*2*1 + 2*(1*1) #area in meters^2\n",
    "\n",
    "k= 0.02 # thermal conductivity in W/(m K)\n",
    "\n",
    "T_fridge= 270# Kelvin\n",
    "T_env=300 #Kelvin\n",
    "dT= T_fridge-T_env\n",
    "\n",
    "L=0.03 #meters\n",
    "\n",
    "Q_dot=-A*k*dT/L\n",
    "print(f'{Q_dot:.0f} Watts entering the fridge.')"
   ]
  },
  {
   "cell_type": "markdown",
   "source": [
    "Our refrigerator runs at 120 V, and draws a maximum of 4.75 amps. The compressor motor turns on every once in a while for a few minutes.\n",
    "b) Suppose (i) we do not open the refrigerator door, (ii) the thermal losses are dominated by the leakage through the foam and not through the seals around the doors, and (iii) the refrigerator runs as a perfectly efficient Carnot cycle.\n",
    "\n",
    "#### How much power on average will our refrigerator need to operate?"
   ],
   "metadata": {
    "collapsed": false
   }
  },
  {
   "cell_type": "markdown",
   "source": [
    "We can start by finding the power drained by the refrigerator from the wall socket when it is running. This total energy consumption is equal to\n",
    "$$P_{max} = IV $$\n",
    "This means the total possible power consumption of the fridge is:"
   ],
   "metadata": {
    "collapsed": false
   }
  },
  {
   "cell_type": "code",
   "execution_count": 28,
   "outputs": [
    {
     "name": "stdout",
     "output_type": "stream",
     "text": [
      "570.0 Watts\n"
     ]
    }
   ],
   "source": [
    "I=4.75 #Amps\n",
    "V=120# Volts\n",
    "P_max= I*V #Watts\n",
    "print(f'{P_max} Watts')"
   ],
   "metadata": {
    "collapsed": false,
    "ExecuteTime": {
     "end_time": "2023-05-08T05:08:43.123020700Z",
     "start_time": "2023-05-08T05:08:43.064021400Z"
    }
   }
  },
  {
   "cell_type": "markdown",
   "source": [
    "To find hte energy required to move the 200W of heat from the fridge, we start with Carnot's equation for reversible heat engines:\n",
    "\n",
    "$$\\frac{Q_1}{T_1} = \\frac{Q_2}{T_2}$$\n",
    "\n",
    "We then decide that the left hand side, $Q_1, T_1$ is for the heat flow and temperature of the environment, while the right hand side, $Q_2, T_2$ is for the heat flow and temperature of the inside of the fridge.\n",
    "\n",
    "$$\\frac{Q_{env}}{T_{env}} = \\frac{Q_{fridge}}{T_{fridge}}$$\n",
    "\n",
    "The heat $Q_{env}$ entering the environment will be the sum of the heat leaving the inside of the fridge $Q_{fridge}$ and the heat generated from the power required by the fridge, $P_{req}$\n",
    "\n",
    "$$\\frac{Q_{fridge}+P_{req}}{T_{env}} = \\frac{Q_{fridge}}{T_{fridge}}$$\n",
    "We can rearrange this to get\n",
    "\n",
    "$$Q_{fridge}+P_{req} = Q_{fridge} \\frac{ T_{env}}{T_{fridge}}$$\n",
    "Then subtract $Q_{fridge}$ from both sides to get\n",
    "$$P_{req} = Q_{fridge} (\\frac{ T_{env}}{T_{fridge}}-1)$$\n",
    "\n",
    "We can then plug in the 200 Watts the fridge needs to remove for $Q_{fridge}$, and the fridge and environmental temperatures of 270 and 300 K respectively to find the required power usage."
   ],
   "metadata": {
    "collapsed": false
   }
  },
  {
   "cell_type": "code",
   "execution_count": 29,
   "outputs": [
    {
     "name": "stdout",
     "output_type": "stream",
     "text": [
      "The fridge requires 22.22 Watts to run.\n"
     ]
    }
   ],
   "source": [
    "P_req = (T_env/T_fridge-1)*Q_dot\n",
    "\n",
    "print(f'The fridge requires {P_req:.2f} Watts to run.')"
   ],
   "metadata": {
    "collapsed": false,
    "ExecuteTime": {
     "end_time": "2023-05-08T05:08:43.130521500Z",
     "start_time": "2023-05-08T05:08:43.078521200Z"
    }
   }
  },
  {
   "cell_type": "markdown",
   "source": [
    "This low power requirement is due to the small difference in absolute temperature between the hot and cold regions."
   ],
   "metadata": {
    "collapsed": false
   }
  },
  {
   "cell_type": "markdown",
   "source": [
    "#### What fraction of the time will the motor run?"
   ],
   "metadata": {
    "collapsed": false
   }
  },
  {
   "cell_type": "code",
   "execution_count": 30,
   "outputs": [
    {
     "name": "stdout",
     "output_type": "stream",
     "text": [
      "The fridge must run 3.90% of the time.\n"
     ]
    }
   ],
   "source": [
    "On_fraction=P_req/P_max\n",
    "on_pct=On_fraction*100\n",
    "\n",
    "print(f'The fridge must run {on_pct:.2f}% of the time.')"
   ],
   "metadata": {
    "collapsed": false,
    "ExecuteTime": {
     "end_time": "2023-05-08T05:08:43.131020800Z",
     "start_time": "2023-05-08T05:08:43.095522300Z"
    }
   }
  },
  {
   "cell_type": "markdown",
   "source": [
    "The low power requirement is much more than fulfilled by the 570W power capability of the refrigerator, so it needs to run intermittently. This is true of real fridges, though they are less efficient than the carnot refrigerator and have significantly lower temperatures to reach."
   ],
   "metadata": {
    "collapsed": false
   }
  }
 ],
 "metadata": {
  "kernelspec": {
   "display_name": "Python 3",
   "language": "python",
   "name": "python3"
  },
  "language_info": {
   "codemirror_mode": {
    "name": "ipython",
    "version": 2
   },
   "file_extension": ".py",
   "mimetype": "text/x-python",
   "name": "python",
   "nbconvert_exporter": "python",
   "pygments_lexer": "ipython2",
   "version": "2.7.6"
  }
 },
 "nbformat": 4,
 "nbformat_minor": 0
}
