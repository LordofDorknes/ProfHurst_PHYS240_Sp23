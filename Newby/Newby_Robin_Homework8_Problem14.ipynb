{
 "cells": [
  {
   "cell_type": "markdown",
   "source": [
    "# KdV Solitons\n",
    "An important equation from the theory of solitons is the Korteweg-deVries (KdV) equation,\n",
    "$$ \\frac{\\partial \\rho}{\\partial t} = -6\\rho\\frac{\\partial \\rho}{\\partial x} - \\frac{\\partial^3 \\rho}{\\partial^3 x} $$\n",
    "Write a program that solves the KdV equation using the explicit/implicit scheme\n",
    "$$\n",
    "\\frac{\\rho^{n+1}_j-\\rho^{n}_j}{\\Delta t} = -6D_j\\,\\rho^n_j-\\frac{1}{2}\n",
    "\n",
    "\\Biggl(\n",
    "\\frac{\\rho^{n}_{j+2}-2\\rho^{n}_{j+1}+2\\rho^{n}_{j-1}-\\rho^{n}_{j-2}}{2\\Delta x^3} + \\frac{\\rho^{n+1}_{j+2}-2\\rho^{n+1}_{j+1}+2\\rho^{n+1}_{j-1}-\\rho^{n+1}_{j-2}}{2\\Delta x^3}\n",
    "\\Biggr)\n",
    "$$\n",
    "\n",
    "where\n",
    "$$\n",
    "D_j = \\frac{\\rho^{n}_{j+1}-\\rho^{n}_{j-1}}{2\\Delta x}\n",
    "$$\n",
    "\n",
    "Use the Dirichlet boundary conditions $\\rho(x = ±L/2) = 0$. Use the solitary wave solution of the KdV equation as an initial condition, $\\rho(x, t) = 2\\mbox{sech}^2(x − 4t)$. What do you observe?\n"
   ],
   "metadata": {
    "collapsed": false
   }
  },
  {
   "cell_type": "markdown",
   "source": [
    "Rearranging the implicit/explicit scheme yields:\n",
    "$$\n",
    "\\rho^{n+1}_j =\\rho^{n}_j -3\\frac{\\Delta t\\,}{\\Delta x}(\\rho^{n}_{j+1}-\\rho^{n}_{j-1})\\,\\rho^n_j\n",
    "-\\frac{\\Delta t}{4\\Delta x^3}\n",
    "\\bigl(\n",
    "(\\rho^{n}_{j+2}-2\\rho^{n}_{j+1}+2\\rho^{n}_{j-1}-\\rho^{n}_{j-2}) + (\\rho^{n+1}_{j+2}-2\\rho^{n+1}_{j+1}+2\\rho^{n+1}_{j-1}-\\rho^{n+1}_{j-2})\n",
    "\\bigr)\n",
    "$$\n",
    "We can then fully rearrange so that $\\rho^{n+1}$ terms are on the left, and $\\rho^{n}$ terms are on the right\n",
    "\n",
    "$$\n",
    "\\rho^{n+1}_j +\\frac{\\Delta t}{4\\Delta x^3}(\\rho^{n+1}_{j+2}-2\\rho^{n+1}_{j+1}+2\\rho^{n+1}_{j-1}-\\rho^{n+1}_{j-2}) =\\rho^{n}_j -3\\frac{\\Delta t\\,}{\\Delta x}(\\rho^{n}_{j+1}-\\rho^{n}_{j-1})\\,\\rho^n_j\n",
    "-\\frac{\\Delta t}{4\\Delta x^3}\n",
    "\\bigl(\n",
    "(\\rho^{n}_{j+2}-2\\rho^{n}_{j+1}+2\\rho^{n}_{j-1}-\\rho^{n}_{j-2})\n",
    "\\bigr)\n",
    "$$\n",
    "\n",
    "We can clean up this expression by writing a vectorized form for all $\\rho_j$ at a given timestep $n$.\n",
    "We write $\\rho^{n}$ to mean a column vector of $\\rho^n_j$ with the j index disappearing as we are working with all rows at once.\n",
    "\n",
    "Then we can write operations such as $$(\\rho^{n}_{j+2}-2\\rho^{n}_{j+1}+2\\rho^{n}_{j-1}-\\rho^{n}_{j-2})$$ as matrix products on $\\rho^n$.\n",
    "We start with the left hand side, defining\n",
    "$$\\alpha=\\frac{\\Delta t}{4\\Delta x^3}$\\mbox{ and } A\\rho^{n}_j=(\\rho^{n}_{j+2}-2\\rho^{n}_{j}+2\\rho^{n}_{j-1}-\\rho^{n}_{j-2})$$\n",
    "Where $n$ and $n+1$ are equally valid timesteps on which to apply $ A $ .\n",
    "\n",
    "We get\n",
    "$$\n",
    "\\rho^{n+1}_j +\\alpha A\\rho^{n+1} =\\rho^{n}_j -\\alpha A \\rho^{n}\n",
    "\n",
    "-3\\frac{\\Delta t\\,}{\\Delta x}(\\rho^{n}_{j+1}-\\rho^{n}_{j-1})\\,\\rho^n_j\n",
    "\n",
    "$$\n",
    "\n",
    "In the interest of bringing this completely, or close to completely in matrix terms, we can notice that $\\rho^n_j$ should return itself for each j in the matrix version of the equation. That means we replace$\\rho^n_j$ with $I\\rho^n$.\n",
    "Additionally, we have another matrix and prefactor to define.\n",
    "We define\n",
    "$$ \\beta=3\\frac{\\Delta t\\,}{\\Delta x}\\mbox{ and } B\\rho^n_j = (\\rho^{n}_{j+1}-\\rho^{n}_{j-1})$$\n",
    "\n",
    "Simplifying fully, we get\n",
    "\n",
    "$$\n",
    "I\\rho^{n+1} +\\alpha A\\rho^{n+1} =I\\rho^{n} -\\alpha A \\rho^{n}-\\beta (B\\rho^n)\\odot\\rho^n\n",
    "$$\n",
    "Where $\\odot$ means the hadamard (element-wise) product rather than the matrix product present in the rest of the equation.\n",
    "\n",
    "Still, this can be further made matrix-like by noticing\n",
    "$$\n",
    "(B\\rho^n)\\odot\\rho^n = \\mbox{diag}(\\rho^n)B\\rho^n\n",
    "$$\n",
    "\n",
    "giving\n",
    "$$\n",
    "(I +\\alpha A)\\rho^{n+1} =\n",
    "\\bigl(\n",
    "I -\\alpha A -\\beta \\mbox{diag}(\\rho^n)B\n",
    "\\bigr)\\rho^n\n",
    "$$.\n",
    "\n",
    "We can finally rearrange using a matrix inverse of $(I +\\alpha A)$.\n",
    "\n",
    "$$\n",
    "\\rho^{n+1} = (I +\\alpha A)^{-1}\n",
    "\\bigl(\n",
    "I -\\alpha A -\\beta \\mbox{diag}(\\rho^n)B\n",
    "\\bigr)\\rho^n\n",
    "$$\n",
    "\n",
    "To obfuscate what we've done behind some incomprehensible notation, we can define\n",
    "$H = (I +\\alpha A)^{-1}$, a quantity we can precompute and only solve for once, and\n",
    "$F(\\rho^{n})=I -\\alpha A -\\beta \\mbox{diag}(\\rho^n)B$, a quantity to compute at every time step using the $\\rho^n$ from the last time step.\n",
    "\n",
    "$$\n",
    "\\rho^{n+1} =H\\,F(\\rho^n)\\rho^n\n",
    "$$\n",
    "Further splitting to allow for precomputing as much as possible\n",
    "$$\n",
    "\\rho^{n+1} =H\\,(F_{\\mbox{same}}+F_{\\mbox{diff}}(\\rho^n))\\rho^n\n",
    "$$\n",
    "$$\n",
    "\\rho^{n+1} =H\\,F_{\\mbox{same}}+H\\,F_{\\mbox{diff}}(\\rho^n)\\rho^n\n",
    "$$"
   ],
   "metadata": {
    "collapsed": false
   }
  },
  {
   "cell_type": "code",
   "execution_count": 126,
   "outputs": [],
   "source": [
    "import numpy as np\n",
    "\n",
    "#parameters\n",
    "tau=0.001\n",
    "maxTime=20\n",
    "tGridNum=int(np.ceil(maxTime/tau)) # we'd rather ceil than floor\n",
    "\n",
    "L=30 #length\n",
    "xGridSize=0.05\n",
    "xGridNum=int(np.ceil(L/(xGridSize))) # integer\n",
    "\n",
    "bufferSize=0#2 #set equal to the furthest away the derivative looks ahead on either side from the current point\n",
    "#the discrete derivative we will use looks at most 2 grid locations away\n",
    "\n",
    "# this buffer is unncessary in the matrix scheme for solving this since matrix multiplication doesn't loop in the same way that array indexing would\n",
    "\n",
    "\n",
    "#create index of X values for grid locations\n",
    "N=np.linspace(start=0,stop=xGridNum-1,num=xGridNum)\n",
    "xGrid=-L/2+(N+1/2)*xGridSize\n",
    "\n",
    "#create index of time values\n",
    "tIndices=np.linspace(start=0,stop=tGridNum-1,num=tGridNum) #largely defunct?\n",
    "tGrid=np.linspace(start=0,stop=tGridNum-1,num=tGridNum)*tau\n",
    "\n",
    "#create soliton\n",
    "soliton=2/((np.cosh(xGrid))**2)\n",
    "\n",
    "#create grid itself\n",
    "\n",
    "grid=np.zeros((xGridNum+bufferSize,tGridNum))\n",
    "#the extra (two) rows are out of bounds but can be indexed into from either side when taking the derivative for points at the edge of the simulated region\n",
    "\n",
    "grid[:,0]=np.concatenate((soliton,np.zeros(bufferSize)))\n",
    "\n",
    "#enforce boundary conditions\n",
    "grid[0,0]=0\n",
    "grid[-(1+bufferSize),0]=0#negative indexing allows me to loop back to the last element on that dimension, though I need to get past the buffer\n"
   ],
   "metadata": {
    "collapsed": false,
    "ExecuteTime": {
     "start_time": "2023-04-23T16:02:36.384724Z",
     "end_time": "2023-04-23T16:02:36.400226Z"
    }
   }
  },
  {
   "cell_type": "code",
   "execution_count": 127,
   "outputs": [
    {
     "name": "stdout",
     "output_type": "stream",
     "text": [
      "1.0 % done\n",
      "2.0 % done\n",
      "3.0 % done\n",
      "4.0 % done\n",
      "5.0 % done\n",
      "6.0 % done\n",
      "7.0 % done\n",
      "8.0 % done\n",
      "9.0 % done\n",
      "10.0 % done\n",
      "11.0 % done\n",
      "12.0 % done\n",
      "13.0 % done\n",
      "14.0 % done\n",
      "15.0 % done\n",
      "16.0 % done\n",
      "17.0 % done\n",
      "18.0 % done\n",
      "19.0 % done\n",
      "20.0 % done\n",
      "21.0 % done\n",
      "22.0 % done\n",
      "23.0 % done\n",
      "24.0 % done\n",
      "25.0 % done\n",
      "26.0 % done\n",
      "27.0 % done\n",
      "28.0 % done\n",
      "29.0 % done\n",
      "30.0 % done\n",
      "31.0 % done\n",
      "32.0 % done\n",
      "33.0 % done\n",
      "34.0 % done\n",
      "35.0 % done\n",
      "36.0 % done\n",
      "37.0 % done\n",
      "38.0 % done\n",
      "39.0 % done\n",
      "40.0 % done\n",
      "41.0 % done\n",
      "42.0 % done\n",
      "43.0 % done\n",
      "44.0 % done\n",
      "45.0 % done\n",
      "numerical instability caused blowup\n",
      "done\n"
     ]
    },
    {
     "name": "stderr",
     "output_type": "stream",
     "text": [
      "C:\\Users\\Robin\\AppData\\Local\\Temp\\ipykernel_31152\\1746008725.py:25: RuntimeWarning: overflow encountered in matmul\n",
      "  grid[:,j]=Full_Advance_operator@grid[:,j-1]\n",
      "C:\\Users\\Robin\\AppData\\Local\\Temp\\ipykernel_31152\\1746008725.py:25: RuntimeWarning: invalid value encountered in matmul\n",
      "  grid[:,j]=Full_Advance_operator@grid[:,j-1]\n",
      "C:\\Users\\Robin\\AppData\\Local\\Temp\\ipykernel_31152\\1746008725.py:22: RuntimeWarning: invalid value encountered in matmul\n",
      "  F_diff=-beta*np.diagflat(grid[:,j-1])@B\n"
     ]
    }
   ],
   "source": [
    "import scipy\n",
    "#compute the constants\n",
    "alpha=tau/(4*(xGridSize*xGridSize*xGridSize))\n",
    "beta=3*tau/(xGridSize)\n",
    "#compute the precomputable matrices\n",
    "onesVector=np.ones(xGridNum)\n",
    "\n",
    "A=np.diagflat(np.ones(xGridNum-2),2) -2*np.diagflat(np.ones(xGridNum-1),1)+2*np.diagflat(np.ones(xGridNum-1),-1)-np.diagflat(np.ones(xGridNum-2),-2)\n",
    "#we don't neet to futz around with getting the diagonal to loop around to the top right edge and get buffer elements, since buffer elements are always set to zero each time step,\n",
    "#in fact in this scheme the buffer is unecessary, since the contributions that should be zero will be zero\n",
    "\n",
    "B = np.diagflat(np.ones(xGridNum-1),1)-np.diagflat(np.ones(xGridNum-1),-1)\n",
    "\n",
    "I=np.identity(xGridNum)\n",
    "H = np.linalg.inv(I+alpha*A)\n",
    "\n",
    "F_same=I-alpha*A\n",
    "#the first part of F will be the same for all time steps\n",
    "#begin the loop\n",
    "HF_same=H@F_same\n",
    "blowupFrame=tGridNum\n",
    "for j in range(1,tGridNum):\n",
    "    F_diff=-beta*np.diagflat(grid[:,j-1])@B\n",
    "    HF_diff=H@F_diff\n",
    "    Full_Advance_operator=HF_same+HF_diff\n",
    "    grid[:,j]=Full_Advance_operator@grid[:,j-1]\n",
    "    #grid[0,j]=0\n",
    "    #grid[-1,j]=0\n",
    "    #enforces boundary conditions? should not do anything as the conditions should be automatically enforced\n",
    "\n",
    "    if j % np.ceil(tGridNum/100) == 0:\n",
    "        print(f'{j/(tGridNum)*100:.1f} % done')\n",
    "    if np.isnan(grid[1,j]):\n",
    "        print('numerical instability caused blowup')\n",
    "        blowupFrame=j\n",
    "        break;\n",
    "print('done')"
   ],
   "metadata": {
    "collapsed": false,
    "ExecuteTime": {
     "start_time": "2023-04-23T16:02:36.404723Z",
     "end_time": "2023-04-23T16:03:53.276720Z"
    }
   }
  },
  {
   "cell_type": "markdown",
   "source": [
    "Well, the warnings aren't an encouraging sign. They appear because the solution blows up when the hierarchy of ripples starts to grow to higher and higher frequencies. The high frequency ripples then grow in amplitude and the solution quickly explodes. This occurs faster when the timestep and/or grid size are larger."
   ],
   "metadata": {
    "collapsed": false
   }
  },
  {
   "cell_type": "code",
   "execution_count": 128,
   "outputs": [
    {
     "data": {
      "text/plain": "<Figure size 640x480 with 1 Axes>",
      "image/png": "[encoded data removed]"
     },
     "metadata": {},
     "output_type": "display_data"
    }
   ],
   "source": [
    "\n",
    "import matplotlib.pyplot as plt\n",
    "timeStep=0\n",
    "fig=plt.plot(xGrid,grid[:,timeStep])"
   ],
   "metadata": {
    "collapsed": false,
    "ExecuteTime": {
     "start_time": "2023-04-23T16:03:53.277721Z",
     "end_time": "2023-04-23T16:03:53.384720Z"
    }
   }
  },
  {
   "cell_type": "code",
   "execution_count": 129,
   "outputs": [
    {
     "data": {
      "text/plain": "<Figure size 1200x800 with 1 Axes>",
      "image/png": "[encoded data removed]"
     },
     "metadata": {},
     "output_type": "display_data"
    }
   ],
   "source": [
    "import matplotlib.animation as animation\n",
    "fig, ax = plt.subplots(figsize=(12,8))\n",
    "ax.set(xlim=(-L/2,L/2),ylim=(-2,3))\n",
    "\n",
    "curve=ax.plot(xGrid,grid[:,0])[0]\n",
    "\n",
    "def animateKDV(i):\n",
    "    curve.set_ydata(grid[:,i])\n",
    "\n",
    "anim=animation.FuncAnimation(fig,animateKDV,interval=1000*tau,frames=min(tGridNum,blowupFrame+100))\n",
    "anim.save(f'kdv_test_tau={tau}_T={maxTime}_xGridSize={xGridSize}_L={L}.mp4')\n"
   ],
   "metadata": {
    "collapsed": false,
    "ExecuteTime": {
     "start_time": "2023-04-23T16:03:53.385721Z",
     "end_time": "2023-04-23T16:07:57.949722Z"
    }
   }
  },
  {
   "cell_type": "code",
   "execution_count": 130,
   "outputs": [],
   "source": [
    "#from matplotlib import cm\n",
    "#fig, ax = plt.subplots(subplot_kw={\"projection\": \"3d\"})\n",
    "\n",
    "#surf = ax.plot_surface(xGrid, tGrid, grid[:,:], cmap=cm.coolwarm, linewidth=0, antialiased=False)"
   ],
   "metadata": {
    "collapsed": false,
    "ExecuteTime": {
     "start_time": "2023-04-23T16:07:57.951221Z",
     "end_time": "2023-04-23T16:07:57.965722Z"
    }
   }
  }
 ],
 "metadata": {
  "kernelspec": {
   "display_name": "Python 3",
   "language": "python",
   "name": "python3"
  },
  "language_info": {
   "codemirror_mode": {
    "name": "ipython",
    "version": 2
   },
   "file_extension": ".py",
   "mimetype": "text/x-python",
   "name": "python",
   "nbconvert_exporter": "python",
   "pygments_lexer": "ipython2",
   "version": "2.7.6"
  }
 },
 "nbformat": 4,
 "nbformat_minor": 0
}
