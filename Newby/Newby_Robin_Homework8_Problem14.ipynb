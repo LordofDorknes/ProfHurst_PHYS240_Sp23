{
 "cells": [
  {
   "cell_type": "markdown",
   "source": [
    "# KdV Solitons\n",
    "An important equation from the theory of solitons is the Korteweg-deVries (KdV) equation,\n",
    "$$ \\frac{\\partial \\rho}{\\partial t} = -6\\rho\\frac{\\partial \\rho}{\\partial x} - \\frac{\\partial^3 \\rho}{\\partial^3 x} $$\n",
    "Write a program that solves the KdV equation using the explicit/implicit scheme\n",
    "$$\n",
    "\\frac{\\rho^{n+1}_j-\\rho^{n}_j}{\\Delta t} = -6D_j\\,\\rho^n_j-\\frac{1}{2}\n",
    "\n",
    "\\Biggl(\n",
    "\\frac{\\rho^{n}_{j+2}-2\\rho^{n}_{j+1}+2\\rho^{n}_{j-1}-\\rho^{n}_{j-2}}{2\\Delta x^3} + \\frac{\\rho^{n+1}_{j+2}-2\\rho^{n+1}_{j+1}+2\\rho^{n+1}_{j-1}-\\rho^{n+1}_{j-2}}{2\\Delta x^3}\n",
    "\\Biggr)\n",
    "$$\n",
    "\n",
    "where\n",
    "$$\n",
    "D_j = \\frac{\\rho^{n}_{j+1}-\\rho^{n}_{j-1}}{2\\Delta x}\n",
    "$$\n",
    "\n",
    "Use the Dirichlet boundary conditions $\\rho(x = ±L/2) = 0$. Use the solitary wave solution of the KdV equation as an initial condition, $\\rho(x, t) = 2\\mbox{sech}^2(x − 4t)$. What do you observe?\n"
   ],
   "metadata": {
    "collapsed": false
   }
  },
  {
   "cell_type": "markdown",
   "source": [
    "Rearranging the implicit/explicit scheme yields:\n",
    "$$\n",
    "\\rho^{n+1}_j =\\rho^{n}_j -3\\frac{\\Delta t\\,}{\\Delta x}(\\rho^{n}_{j+1}-\\rho^{n}_{j-1})\\,\\rho^n_j\n",
    "-\\frac{\\Delta t}{4\\Delta x^3}\n",
    "\\bigl(\n",
    "(\\rho^{n}_{j+2}-2\\rho^{n}_{j+1}+2\\rho^{n}_{j-1}-\\rho^{n}_{j-2}) + (\\rho^{n+1}_{j+2}-2\\rho^{n+1}_{j+1}+2\\rho^{n+1}_{j-1}-\\rho^{n+1}_{j-2})\n",
    "\\bigr)\n",
    "$$\n",
    "We can then fully rearrange so that $\\rho^{n+1}$ terms are on the left, and $\\rho^{n}$ terms are on the right\n",
    "\n",
    "$$\n",
    "\\rho^{n+1}_j +\\frac{\\Delta t}{4\\Delta x^3}(\\rho^{n+1}_{j+2}-2\\rho^{n+1}_{j+1}+2\\rho^{n+1}_{j-1}-\\rho^{n+1}_{j-2}) =\\rho^{n}_j -3\\frac{\\Delta t\\,}{\\Delta x}(\\rho^{n}_{j+1}-\\rho^{n}_{j-1})\\,\\rho^n_j\n",
    "-\\frac{\\Delta t}{4\\Delta x^3}\n",
    "\\bigl(\n",
    "(\\rho^{n}_{j+2}-2\\rho^{n}_{j+1}+2\\rho^{n}_{j-1}-\\rho^{n}_{j-2})\n",
    "\\bigr)\n",
    "$$\n",
    "\n",
    "We can clean up this expression by writing a vectorized form for all $\\rho_j$ at a given timestep $n$.\n",
    "We write $\\rho^{n}$ to mean a column vector of $\\rho^n_j$ with the j index disappearing as we are working with all rows at once.\n",
    "\n",
    "Then we can write operations such as $$(\\rho^{n}_{j+2}-2\\rho^{n}_{j+1}+2\\rho^{n}_{j-1}-\\rho^{n}_{j-2})$$ as matrix products on $\\rho^n$.\n",
    "We start with the left hand side, defining\n",
    "$$\\alpha=\\frac{\\Delta t}{4\\Delta x^3}$\\mbox{ and } A\\rho^{n}_j=(\\rho^{n}_{j+2}-2\\rho^{n}_{j}+2\\rho^{n}_{j-1}-\\rho^{n}_{j-2})$$\n",
    "Where $n$ and $n+1$ are equally valid timesteps on which to apply $ A $ .\n",
    "\n",
    "We get\n",
    "$$\n",
    "\\rho^{n+1}_j +\\alpha A\\rho^{n+1} =\\rho^{n}_j -\\alpha A \\rho^{n}\n",
    "\n",
    "-3\\frac{\\Delta t\\,}{\\Delta x}(\\rho^{n}_{j+1}-\\rho^{n}_{j-1})\\,\\rho^n_j\n",
    "\n",
    "$$\n",
    "\n",
    "In the interest of bringing this completely, or close to completely in matrix terms, we can notice that $\\rho^n_j$ should return itself for each j in the matrix version of the equation. That means we replace$\\rho^n_j$ with $I\\rho^n$.\n",
    "Additionally, we have another matrix and prefactor to define.\n",
    "We define\n",
    "$$ \\beta=3\\frac{\\Delta t\\,}{\\Delta x}\\mbox{ and } B\\rho^n_j = (\\rho^{n}_{j+1}-\\rho^{n}_{j-1})$$\n",
    "\n",
    "Simplifying fully, we get\n",
    "\n",
    "$$\n",
    "I\\rho^{n+1} +\\alpha A\\rho^{n+1} =I\\rho^{n} -\\alpha A \\rho^{n}-\\beta (B\\rho^n)\\odot\\rho^n\n",
    "$$\n",
    "Where $\\odot$ means the hadamard (element-wise) product rather than the matrix product present in the rest of the equation.\n",
    "\n",
    "Still, this can be further made matrix-like by noticing\n",
    "$$\n",
    "(B\\rho^n)\\odot\\rho^n = \\mbox{diag}(\\rho^n)B\\rho^n\n",
    "$$\n",
    "\n",
    "giving\n",
    "$$\n",
    "(I +\\alpha A)\\rho^{n+1} =\n",
    "\\bigl(\n",
    "I -\\alpha A -\\beta \\mbox{diag}(\\rho^n)B\n",
    "\\bigr)\\rho^n\n",
    "$$.\n",
    "\n",
    "We can finally rearrange using a matrix inverse of $(I +\\alpha A)$.\n",
    "\n",
    "$$\n",
    "\\rho^{n+1} = (I +\\alpha A)^{-1}\n",
    "\\bigl(\n",
    "I -\\alpha A -\\beta \\mbox{diag}(\\rho^n)B\n",
    "\\bigr)\\rho^n\n",
    "$$\n",
    "\n",
    "To obfuscate what we've done behind some incomprehensible notation, we can define\n",
    "$H = (I +\\alpha A)^{-1}$, a quantity we can precompute and only solve for once, and\n",
    "$F(\\rho^{n})=I -\\alpha A -\\beta \\mbox{diag}(\\rho^n)B$, a quantity to compute at every time step using the $\\rho^n$ from the last time step.\n",
    "\n",
    "$$\n",
    "\\rho^{n+1} =H\\,F(\\rho^n)\\rho^n\n",
    "$$\n",
    "Further splitting to allow for precomputing as much as possible\n",
    "$$\n",
    "\\rho^{n+1} =H\\,(F_{\\mbox{same}}+F_{\\mbox{diff}}(\\rho^n))\\rho^n\n",
    "$$\n",
    "$$\n",
    "\\rho^{n+1} =H\\,F_{\\mbox{same}}+H\\,F_{\\mbox{diff}}(\\rho^n)\\rho^n\n",
    "$$"
   ],
   "metadata": {
    "collapsed": false
   }
  },
  {
   "cell_type": "code",
   "execution_count": 169,
   "outputs": [],
   "source": [
    "import numpy as np\n",
    "\n",
    "#parameters\n",
    "tau=0.001\n",
    "maxTime=20\n",
    "tGridNum=int(np.ceil(maxTime/tau)) # we'd rather ceil than floor\n",
    "\n",
    "L=30 #length\n",
    "xGridSize=0.01\n",
    "xGridNum=int(np.ceil(L/(xGridSize))) # integer\n",
    "\n",
    "bufferSize=0#2 #set equal to the furthest away the derivative looks ahead on either side from the current point\n",
    "#the discrete derivative we will use looks at most 2 grid locations away\n",
    "\n",
    "# this buffer is unncessary in the matrix scheme for solving this since matrix multiplication doesn't loop in the same way that array indexing would\n",
    "\n",
    "\n",
    "#create index of X values for grid locations\n",
    "N=np.linspace(start=0,stop=xGridNum-1,num=xGridNum)\n",
    "xGrid=-L/2+(N+1/2)*xGridSize\n",
    "\n",
    "#create index of time values\n",
    "tIndices=np.linspace(start=0,stop=tGridNum-1,num=tGridNum) #largely defunct?\n",
    "tGrid=np.linspace(start=0,stop=tGridNum-1,num=tGridNum)*tau\n",
    "\n",
    "#create soliton\n",
    "soliton=2/((np.cosh(xGrid))**2)\n",
    "\n",
    "#create grid itself\n",
    "\n",
    "grid=np.zeros((xGridNum+bufferSize,tGridNum))\n",
    "#the extra (two) rows are out of bounds but can be indexed into from either side when taking the derivative for points at the edge of the simulated region\n",
    "\n",
    "grid[:,0]=np.concatenate((soliton,np.zeros(bufferSize)))\n",
    "\n",
    "#enforce boundary conditions\n",
    "grid[0,0]=0\n",
    "grid[-(1+bufferSize),0]=0#negative indexing allows me to loop back to the last element on that dimension, though I need to get past the buffer\n"
   ],
   "metadata": {
    "collapsed": false,
    "ExecuteTime": {
     "start_time": "2023-04-23T17:29:39.051992Z",
     "end_time": "2023-04-23T17:29:39.089992Z"
    }
   }
  },
  {
   "cell_type": "code",
   "execution_count": 170,
   "outputs": [
    {
     "name": "stderr",
     "output_type": "stream",
     "text": [
      "C:\\Users\\Robin\\.conda\\envs\\ProfHurst_PHYS240_Sp23\\lib\\site-packages\\scipy\\sparse\\linalg\\_dsolve\\linsolve.py:394: SparseEfficiencyWarning: splu converted its input to CSC format\n",
      "  warn('splu converted its input to CSC format', SparseEfficiencyWarning)\n",
      "C:\\Users\\Robin\\.conda\\envs\\ProfHurst_PHYS240_Sp23\\lib\\site-packages\\scipy\\sparse\\linalg\\_dsolve\\linsolve.py:285: SparseEfficiencyWarning: spsolve is more efficient when sparse b is in the CSC matrix format\n",
      "  warn('spsolve is more efficient when sparse b '\n"
     ]
    }
   ],
   "source": [
    "import scipy\n",
    "from scipy.sparse import dia_matrix\n",
    "import scipy.linalg\n",
    "#compute the constants\n",
    "alpha=tau/(4*(xGridSize*xGridSize*xGridSize))\n",
    "beta=3*tau/(xGridSize)\n",
    "#compute the precomputable matrices\n",
    "\n",
    "offsetsA=np.array([2,1,-1,-2])\n",
    "dataA=np.array([np.ones(xGridNum), -2*np.ones(xGridNum),2*np.ones(xGridNum), -np.ones(xGridNum)])\n",
    "A=dia_matrix((dataA,offsetsA),shape=(xGridNum,xGridNum))\n",
    "\n",
    "#we don't neet to futz around with getting the diagonal to loop around to the top right edge and get buffer elements, since buffer elements are always set to zero each time step,\n",
    "#in fact in this scheme the buffer is unecessary, since the contributions that should be zero will be zero\n",
    "offsetsB=np.array([1,-1])\n",
    "dataB=np.array([np.ones(xGridNum),-np.ones(xGridNum)])\n",
    "\n",
    "B = dia_matrix((dataB,offsetsB),shape=(xGridNum,xGridNum))\n",
    "\n",
    "\n",
    "I=scipy.sparse.identity(xGridNum)\n",
    "H = scipy.sparse.linalg.inv(scipy.sparse.csr_matrix(I)+alpha*scipy.sparse.csr_matrix(A))\n",
    "\n",
    "F_same=I-alpha*A\n",
    "#the first part of F will be the same for all time steps\n",
    "#begin the loop\n",
    "HF_same=H@F_same\n",
    "B=B.tocsr()\n",
    "\n",
    "#F_diff=-beta*scipy.sparse.diags(grid[:,j-1],0)@B\n",
    "#HF_diff=H@F_diff\n",
    "#Full_Advance_operator=HF_same+HF_diff\n",
    "#grid[:,j]=Full_Advance_operator@grid[:,j-1]\n",
    "\n",
    "\n",
    "state=grid[:,0]"
   ],
   "metadata": {
    "collapsed": false,
    "ExecuteTime": {
     "start_time": "2023-04-23T17:29:39.070992Z",
     "end_time": "2023-04-23T17:29:39.984491Z"
    }
   }
  },
  {
   "cell_type": "code",
   "execution_count": 171,
   "outputs": [
    {
     "name": "stdout",
     "output_type": "stream",
     "text": [
      "1.0 % done\n",
      "2.0 % done\n",
      "3.0 % done\n",
      "4.0 % done\n",
      "5.0 % done\n",
      "6.0 % done\n",
      "7.0 % done\n",
      "8.0 % done\n",
      "9.0 % done\n",
      "10.0 % done\n",
      "11.0 % done\n",
      "12.0 % done\n",
      "13.0 % done\n",
      "14.0 % done\n",
      "15.0 % done\n",
      "16.0 % done\n",
      "17.0 % done\n",
      "18.0 % done\n",
      "19.0 % done\n",
      "20.0 % done\n",
      "21.0 % done\n",
      "22.0 % done\n",
      "23.0 % done\n",
      "24.0 % done\n",
      "25.0 % done\n",
      "26.0 % done\n",
      "27.0 % done\n",
      "28.0 % done\n",
      "29.0 % done\n",
      "30.0 % done\n",
      "31.0 % done\n",
      "32.0 % done\n",
      "33.0 % done\n",
      "34.0 % done\n",
      "35.0 % done\n",
      "36.0 % done\n",
      "37.0 % done\n",
      "38.0 % done\n",
      "39.0 % done\n",
      "40.0 % done\n",
      "41.0 % done\n",
      "42.0 % done\n",
      "43.0 % done\n",
      "44.0 % done\n",
      "45.0 % done\n",
      "46.0 % done\n",
      "47.0 % done\n",
      "48.0 % done\n",
      "49.0 % done\n",
      "50.0 % done\n",
      "51.0 % done\n",
      "52.0 % done\n",
      "53.0 % done\n",
      "54.0 % done\n",
      "55.0 % done\n",
      "56.0 % done\n",
      "57.0 % done\n",
      "58.0 % done\n",
      "59.0 % done\n",
      "60.0 % done\n",
      "61.0 % done\n",
      "62.0 % done\n",
      "63.0 % done\n",
      "64.0 % done\n",
      "65.0 % done\n",
      "66.0 % done\n",
      "67.0 % done\n",
      "68.0 % done\n",
      "69.0 % done\n",
      "numerical instability caused blowup\n",
      "done\n"
     ]
    }
   ],
   "source": [
    "\n",
    "blowupFrame=tGridNum\n",
    "for j in range(1,tGridNum):\n",
    "    F_diff=-beta*scipy.sparse.diags(state,0)@B\n",
    "    HF_diff=H@F_diff\n",
    "    Full_Advance_operator=HF_same+HF_diff\n",
    "    state=Full_Advance_operator@state\n",
    "    #grid[0,j]=0\n",
    "    #grid[-1,j]=0\n",
    "    #enforces boundary conditions? should not do anything as the conditions should be automatically enforced\n",
    "    grid[:,j]=state\n",
    "    if j % np.ceil(tGridNum/100) == 0:\n",
    "        print(f'{j/(tGridNum)*100:.1f} % done')\n",
    "    if np.isnan(grid[1,j]):\n",
    "        print('numerical instability caused blowup')\n",
    "        blowupFrame=j\n",
    "        break;\n",
    "print('done')"
   ],
   "metadata": {
    "collapsed": false,
    "ExecuteTime": {
     "start_time": "2023-04-23T17:29:39.985494Z",
     "end_time": "2023-04-23T18:00:10.078536Z"
    }
   }
  },
  {
   "cell_type": "markdown",
   "source": [
    "Well, the warnings aren't an encouraging sign. They appear because the solution blows up when ripples start to grow to higher and higher frequencies after the soliton collides with the boundary. The high frequency ripples then grow in amplitude and the solution quickly explodes. This occurs faster when the timestep and/or grid size are larger. The grid size seems to be the larger issue, as smaller timestep increases runtime linearly, while smaller $\\Delta x$ increases runtime at least quadratically, if not worse.\n",
    "\n",
    "I switched from numpy arrays to scipy sparse arrays, and that seemed to lead to a ~2x speedup to the computation. It may have slowed down the recording of the video, however. I then changed from accessing the full grid variable when computing to just storing the current state and recording it to the grid after each computation step. Somewhat unsurprisingly, this did not seem to affect runtime."
   ],
   "metadata": {
    "collapsed": false
   }
  },
  {
   "cell_type": "code",
   "execution_count": 172,
   "outputs": [
    {
     "data": {
      "text/plain": "<Figure size 640x480 with 1 Axes>",
      "image/png": "[encoded data removed]"
     },
     "metadata": {},
     "output_type": "display_data"
    }
   ],
   "source": [
    "\n",
    "import matplotlib.pyplot as plt\n",
    "timeStep=0\n",
    "fig=plt.plot(xGrid,grid[:,timeStep])\n",
    "plt.title(\"Soliton at t=0\")\n",
    "plt.xlabel(\"x\")\n",
    "plt.ylabel(\"$\\\\rho\\,(x,t)$\")\n",
    "plt.grid(visible=True)"
   ],
   "metadata": {
    "collapsed": false,
    "ExecuteTime": {
     "start_time": "2023-04-23T18:00:10.079536Z",
     "end_time": "2023-04-23T18:00:10.217537Z"
    }
   }
  },
  {
   "cell_type": "code",
   "execution_count": 173,
   "outputs": [
    {
     "data": {
      "text/plain": "<Figure size 1200x800 with 1 Axes>",
      "image/png": "[encoded data removed]"
     },
     "metadata": {},
     "output_type": "display_data"
    }
   ],
   "source": [
    "import matplotlib.animation as animation\n",
    "fig, ax = plt.subplots(figsize=(12,8))\n",
    "ax.set(xlim=(-L/2,L/2),ylim=(-2,3))\n",
    "\n",
    "curve=ax.plot(xGrid,grid[:,0])[0]\n",
    "\n",
    "plt.xlabel(\"x\")\n",
    "plt.ylabel(\"$\\\\rho\\,(x,t)$\")\n",
    "plt.grid(visible=True)\n",
    "def animateKDV(i):\n",
    "    plt.title(f\"Soliton at t={i*tau:.2f}\")\n",
    "    curve.set_ydata(grid[:,i])\n",
    "\n",
    "anim=animation.FuncAnimation(fig,animateKDV,interval=1000*tau,frames=min(tGridNum,blowupFrame+100))\n",
    "anim.save(f'kdv_test_tau={tau}_T={maxTime}_xGridSize={xGridSize}_L={L}.mp4')\n"
   ],
   "metadata": {
    "collapsed": false,
    "ExecuteTime": {
     "start_time": "2023-04-23T18:00:10.220037Z",
     "end_time": "2023-04-23T18:09:34.660036Z"
    }
   }
  },
  {
   "cell_type": "code",
   "execution_count": 174,
   "outputs": [],
   "source": [
    "#from matplotlib import cm\n",
    "#fig, ax = plt.subplots(subplot_kw={\"projection\": \"3d\"})\n",
    "\n",
    "#surf = ax.plot_surface(xGrid, tGrid, grid[:,:], cmap=cm.coolwarm, linewidth=0, antialiased=False)"
   ],
   "metadata": {
    "collapsed": false,
    "ExecuteTime": {
     "start_time": "2023-04-23T18:09:34.660535Z",
     "end_time": "2023-04-23T18:09:34.732035Z"
    }
   }
  }
 ],
 "metadata": {
  "kernelspec": {
   "display_name": "Python 3",
   "language": "python",
   "name": "python3"
  },
  "language_info": {
   "codemirror_mode": {
    "name": "ipython",
    "version": 2
   },
   "file_extension": ".py",
   "mimetype": "text/x-python",
   "name": "python",
   "nbconvert_exporter": "python",
   "pygments_lexer": "ipython2",
   "version": "2.7.6"
  }
 },
 "nbformat": 4,
 "nbformat_minor": 0
}
