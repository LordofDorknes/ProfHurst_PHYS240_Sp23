{
 "cells": [
  {
   "cell_type": "markdown",
   "source": [
    "# KdV Solitons\n",
    "An important equation from the theory of solitons is the Korteweg-deVries (KdV) equation,\n",
    "$$ \\frac{\\partial \\rho}{\\partial t} = -6\\rho\\frac{\\partial \\rho}{\\partial x} - \\frac{\\partial^3 \\rho}{\\partial^3 x} $$\n",
    "Write a program that solves the KdV equation using the explicit/implicit scheme\n",
    "$$\n",
    "\\frac{\\rho^{n+1}_j-\\rho^{n}_j}{\\Delta t} = -6D_j\\,\\rho^n_j-\\frac{1}{2}\n",
    "\n",
    "\\Biggl(\n",
    "\\frac{\\rho^{n}_{j+2}-2\\rho^{n}_{j+1}+2\\rho^{n}_{j-1}-\\rho^{n}_{j-2}}{2\\Delta x^3} + \\frac{\\rho^{n+1}_{j+2}-2\\rho^{n+1}_{j+1}+2\\rho^{n+1}_{j-1}-\\rho^{n+1}_{j-2}}{2\\Delta x^3}\n",
    "\\Biggr)\n",
    "$$\n",
    "\n",
    "where\n",
    "$$\n",
    "D_j = \\frac{\\rho^{n}_{j+1}-\\rho^{n}_{j-1}}{2\\Delta x}\n",
    "$$\n",
    "\n",
    "Use the Dirichlet boundary conditions $\\rho(x = ±L/2) = 0$. Use the solitary wave solution of the KdV equation as an initial condition, $\\rho(x, t) = 2\\mbox{sech}^2(x − 4t)$. What do you observe?\n"
   ],
   "metadata": {
    "collapsed": false
   }
  },
  {
   "cell_type": "code",
   "execution_count": 1,
   "outputs": [
    {
     "ename": "NameError",
     "evalue": "name 'XGridSize' is not defined",
     "output_type": "error",
     "traceback": [
      "\u001B[1;31m---------------------------------------------------------------------------\u001B[0m",
      "\u001B[1;31mNameError\u001B[0m                                 Traceback (most recent call last)",
      "Input \u001B[1;32mIn [1]\u001B[0m, in \u001B[0;36m<cell line: 10>\u001B[1;34m()\u001B[0m\n\u001B[0;32m      8\u001B[0m L\u001B[38;5;241m=\u001B[39m\u001B[38;5;241m1\u001B[39m \u001B[38;5;66;03m#length\u001B[39;00m\n\u001B[0;32m      9\u001B[0m xGridSize\u001B[38;5;241m=\u001B[39m\u001B[38;5;241m0.01\u001B[39m\n\u001B[1;32m---> 10\u001B[0m xGridNum\u001B[38;5;241m=\u001B[39mL\u001B[38;5;241m/\u001B[39m\u001B[38;5;241m/\u001B[39m\u001B[43mXGridSize\u001B[49m \u001B[38;5;66;03m# integer\u001B[39;00m\n\u001B[0;32m     12\u001B[0m \u001B[38;5;66;03m#create grid\u001B[39;00m\n\u001B[0;32m     14\u001B[0m grid\u001B[38;5;241m=\u001B[39mnp\u001B[38;5;241m.\u001B[39mzeros((xGridNum,tGridNum))\n",
      "\u001B[1;31mNameError\u001B[0m: name 'XGridSize' is not defined"
     ]
    }
   ],
   "source": [
    "import numpy as np\n",
    "\n",
    "#parameters\n",
    "tau=0.01\n",
    "maxTime=10\n",
    "tGridNum=maxTime//tau #the // automatically floors the result, so we get an integer length\n",
    "\n",
    "L=1 #length\n",
    "xGridSize=0.01\n",
    "xGridNum=L//xGridSize # integer\n",
    "\n",
    "#create grid\n",
    "\n",
    "grid=np.zeros((xGridNum,tGridNum))\n",
    "\n"
   ],
   "metadata": {
    "collapsed": false
   }
  },
  {
   "cell_type": "code",
   "execution_count": null,
   "outputs": [],
   "source": [],
   "metadata": {
    "collapsed": false
   }
  }
 ],
 "metadata": {
  "kernelspec": {
   "display_name": "Python 3",
   "language": "python",
   "name": "python3"
  },
  "language_info": {
   "codemirror_mode": {
    "name": "ipython",
    "version": 2
   },
   "file_extension": ".py",
   "mimetype": "text/x-python",
   "name": "python",
   "nbconvert_exporter": "python",
   "pygments_lexer": "ipython2",
   "version": "2.7.6"
  }
 },
 "nbformat": 4,
 "nbformat_minor": 0
}
