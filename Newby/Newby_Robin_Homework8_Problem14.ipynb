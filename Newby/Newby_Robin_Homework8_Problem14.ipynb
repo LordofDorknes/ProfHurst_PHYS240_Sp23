{
 "cells": [
  {
   "cell_type": "markdown",
   "source": [
    "# KdV Solitons\n",
    "An important equation from the theory of solitons is the Korteweg-deVries (KdV) equation,\n",
    "$$ \\frac{\\partial \\rho}{\\partial t} = -6\\rho\\frac{\\partial \\rho}{\\partial x} - \\frac{\\partial^3 \\rho}{\\partial^3 x} $$\n",
    "Write a program that solves the KdV equation using the explicit/implicit scheme\n",
    "$$\n",
    "\\frac{\\rho^{n+1}_j-\\rho^{n}_j}{\\Delta t} = -6D_j\\,\\rho^n_j-\\frac{1}{2}\n",
    "\n",
    "\\Biggl(\n",
    "\\frac{\\rho^{n}_{j+2}-2\\rho^{n}_{j+1}+2\\rho^{n}_{j-1}-\\rho^{n}_{j-2}}{2\\Delta x^3} + \\frac{\\rho^{n+1}_{j+2}-2\\rho^{n+1}_{j+1}+2\\rho^{n+1}_{j-1}-\\rho^{n+1}_{j-2}}{2\\Delta x^3}\n",
    "\\Biggr)\n",
    "$$\n",
    "\n",
    "where\n",
    "$$\n",
    "D_j = \\frac{\\rho^{n}_{j+1}-\\rho^{n}_{j-1}}{2\\Delta x}\n",
    "$$\n",
    "\n",
    "Use the Dirichlet boundary conditions $\\rho(x = ±L/2) = 0$. Use the solitary wave solution of the KdV equation as an initial condition, $\\rho(x, t) = 2\\mbox{sech}^2(x − 4t)$. What do you observe?\n"
   ],
   "metadata": {
    "collapsed": false
   }
  },
  {
   "cell_type": "code",
   "execution_count": 34,
   "outputs": [],
   "source": [
    "import numpy as np\n",
    "\n",
    "#parameters\n",
    "tau=0.01\n",
    "maxTime=10\n",
    "tGridNum=int(np.ceil(maxTime/tau)) # we'd rather ceil than floor\n",
    "\n",
    "L=10 #length\n",
    "xGridSize=0.01\n",
    "xGridNum=int(np.ceil(L/(xGridSize))) # integer\n",
    "\n",
    "bufferSize=2 #set equal to the furthest away the derivative looks ahead on either side from the current point\n",
    "#the discrete derivative we will use looks at most 2 grid locations away\n",
    "\n",
    "#create index of X values for grid locations\n",
    "N=np.linspace(start=0,stop=xGridNum-1,num=xGridNum)\n",
    "xGrid=-L/2+(N+1/2)*xGridSize\n",
    "\n",
    "#create index of time values\n",
    "tIndices=np.linspace(start=0,stop=tGridNum-1,num=tGridNum) #largely defunct?\n",
    "tGrid=np.linspace(start=0,stop=tGridNum-1,num=tGridNum)*tau\n",
    "\n",
    "#create soliton\n",
    "soliton=2/((np.cosh(xGrid))**2)\n",
    "\n",
    "#create grid itself\n",
    "\n",
    "grid=np.zeros((xGridNum+bufferSize,tGridNum))\n",
    "#the extra (two) rows are out of bounds but can be indexed into from either side when taking the derivative for points at the edge of the simulated region\n",
    "\n",
    "grid[:,0]=np.concatenate((soliton,np.zeros(bufferSize)))\n",
    "\n",
    "#enforce boundary conditions\n",
    "grid[0,0]=0\n",
    "grid[-(1+bufferSize),0]=0#negative indexing allows me to loop back to the last element on that dimension, though I need to get past the buffer\n"
   ],
   "metadata": {
    "collapsed": false,
    "ExecuteTime": {
     "start_time": "2023-04-22T22:19:50.213442Z",
     "end_time": "2023-04-22T22:19:50.220444Z"
    }
   }
  },
  {
   "cell_type": "markdown",
   "source": [
    "Rearranging the implicit/explicit scheme yields:\n",
    "$$\n",
    "\\rho^{n+1}_j =\\rho^{n}_j -3\\frac{\\Delta t\\,}{\\Delta x}(\\rho^{n}_{j+1}-\\rho^{n}_{j-1})\\,\\rho^n_j\n",
    "-\\frac{\\Delta t}{4\\Delta x^3}\n",
    "\\bigl(\n",
    "(\\rho^{n}_{j+2}-2\\rho^{n}_{j+1}+2\\rho^{n}_{j-1}-\\rho^{n}_{j-2}) + (\\rho^{n+1}_{j+2}-2\\rho^{n+1}_{j+1}+2\\rho^{n+1}_{j-1}-\\rho^{n+1}_{j-2})\n",
    "\\bigr)\n",
    "$$\n",
    "We can then fully rearrange so that $\\rho^{n+1}$ terms are on the left, and $\\rho^{n}$ terms are on the right\n",
    "\n",
    "$$\n",
    "\\rho^{n+1}_j +\\frac{\\Delta t}{4\\Delta x^3}(\\rho^{n+1}_{j+2}-2\\rho^{n+1}_{j+1}+2\\rho^{n+1}_{j-1}-\\rho^{n+1}_{j-2}) =\\rho^{n}_j -3\\frac{\\Delta t\\,}{\\Delta x}(\\rho^{n}_{j+1}-\\rho^{n}_{j-1})\\,\\rho^n_j\n",
    "-\\frac{\\Delta t}{4\\Delta x^3}\n",
    "\\bigl(\n",
    "(\\rho^{n}_{j+2}-2\\rho^{n}_{j+1}+2\\rho^{n}_{j-1}-\\rho^{n}_{j-2})\n",
    "\\bigr)\n",
    "$$\n",
    "\n",
    "We can clean up this expression by writing a vectorized form for all $\\rho_j$ at a given timestep $n$.\n",
    "We write $\\rho^{n}$ to mean a column vector of $\\rho^n_j$ with the j index disappearing as we are working with all rows at once.\n",
    "\n",
    "Then we can write operations such as $$(\\rho^{n}_{j+2}-2\\rho^{n}_{j+1}+2\\rho^{n}_{j-1}-\\rho^{n}_{j-2})$$ as matrix products on $\\rho^n$.\n",
    "We start with the left hand side, defining\n",
    "$$\\alpha=\\frac{\\Delta t}{4\\Delta x^3}$\\mbox{ and } A\\rho^{n}_j=(\\rho^{n}_{j+2}-2\\rho^{n}_{j}+2\\rho^{n}_{j-1}-\\rho^{n}_{j-2})$$\n",
    "Where $n$ and $n+1$ are equally valid timesteps on which to apply $ A $ .\n",
    "\n",
    "We get\n",
    "$$\n",
    "\\rho^{n+1}_j +\\alpha A\\rho^{n+1} =\\rho^{n}_j -\\alpha A \\rho^{n}\n",
    "\n",
    "-3\\frac{\\Delta t\\,}{\\Delta x}(\\rho^{n}_{j+1}-\\rho^{n}_{j-1})\\,\\rho^n_j\n",
    "\n",
    "$$\n",
    "\n",
    "In the interest of bringing this completely, or close to completely in matrix terms, we can notice that $\\rho^n_j$ should return itself for each j in the matrix version of the equation. That means we replace$\\rho^n_j$ with $I\\rho^n$.\n",
    "Additionally, we have another matrix and prefactor to define.\n",
    "We define\n",
    "$$ \\beta=3\\frac{\\Delta t\\,}{\\Delta x}\\mbox{ and } B\\rho^n_j = (\\rho^{n}_{j+1}-\\rho^{n}_{j-1})$$\n",
    "\n",
    "Simplifying fully, we get\n",
    "\n",
    "$$\n",
    "I\\rho^{n+1} +\\alpha A\\rho^{n+1} =I\\rho^{n} -\\alpha A \\rho^{n}-3\\beta (B\\rho^n)\\odot\\rho^n\n",
    "$$\n",
    "Where $\\odot$ means the hadamard (element-wise) product rather than the matrix product present in the rest of the equation.\n",
    "\n",
    "Still, this can be further made matrix-like by noticing\n",
    "$$\n",
    "(B\\rho^n)\\odot\\rho^n = \\mbox{diag}(\\rho^n)B\\rho^n\n",
    "$$\n",
    "\n",
    "giving\n",
    "$$\n",
    "(I +\\alpha A)\\rho^{n+1} =\n",
    "\\bigl(\n",
    "I -\\alpha A -3\\beta \\mbox{diag}(\\rho^n)B\n",
    "\\bigr)\\rho^n\n",
    "$$"
   ],
   "metadata": {
    "collapsed": false
   }
  },
  {
   "cell_type": "code",
   "execution_count": 28,
   "outputs": [
    {
     "ename": "SyntaxError",
     "evalue": "expected ':' (1629645956.py, line 4)",
     "output_type": "error",
     "traceback": [
      "\u001B[1;36m  Cell \u001B[1;32mIn [28], line 4\u001B[1;36m\u001B[0m\n\u001B[1;33m    for i in range(1,xGridNum-1)\u001B[0m\n\u001B[1;37m                                ^\u001B[0m\n\u001B[1;31mSyntaxError\u001B[0m\u001B[1;31m:\u001B[0m expected ':'\n"
     ]
    }
   ],
   "source": [
    "\n",
    "#begin the loop\n",
    "\n",
    "for j in range(1,tGridNum-1):\n",
    "    for i in range(1,xGridNum-1):\n",
    "\n"
   ],
   "metadata": {
    "collapsed": false
   }
  },
  {
   "cell_type": "markdown",
   "source": [],
   "metadata": {
    "collapsed": false
   }
  },
  {
   "cell_type": "code",
   "execution_count": null,
   "outputs": [],
   "source": [],
   "metadata": {
    "collapsed": false
   }
  }
 ],
 "metadata": {
  "kernelspec": {
   "display_name": "Python 3",
   "language": "python",
   "name": "python3"
  },
  "language_info": {
   "codemirror_mode": {
    "name": "ipython",
    "version": 2
   },
   "file_extension": ".py",
   "mimetype": "text/x-python",
   "name": "python",
   "nbconvert_exporter": "python",
   "pygments_lexer": "ipython2",
   "version": "2.7.6"
  }
 },
 "nbformat": 4,
 "nbformat_minor": 0
}
