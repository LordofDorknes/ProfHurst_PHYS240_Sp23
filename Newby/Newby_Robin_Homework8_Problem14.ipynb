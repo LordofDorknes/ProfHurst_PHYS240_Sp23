{
 "cells": [
  {
   "cell_type": "markdown",
   "source": [
    "# KdV Solitons\n",
    "An important equation from the theory of solitons is the Korteweg-deVries (KdV) equation,\n",
    "$$ \\frac{\\partial \\rho}{\\partial t} = -6\\rho\\frac{\\partial \\rho}{\\partial x} - \\frac{\\partial^3 \\rho}{\\partial^3 x} $$\n",
    "Write a program that solves the KdV equation using the explicit/implicit scheme\n",
    "$$\n",
    "\\frac{\\rho^{n+1}_j-\\rho^{n}_j}{\\Delta t} = -6D_j\\,\\rho^n_j-\\frac{1}{2}\n",
    "\n",
    "\\Biggl(\n",
    "\\frac{\\rho^{n}_{j+2}-2\\rho^{n}_{j+1}+2\\rho^{n}_{j-1}-\\rho^{n}_{j-2}}{2\\Delta x^3} + \\frac{\\rho^{n+1}_{j+2}-2\\rho^{n+1}_{j+1}+2\\rho^{n+1}_{j-1}-\\rho^{n+1}_{j-2}}{2\\Delta x^3}\n",
    "\\Biggr)\n",
    "$$\n",
    "\n",
    "where\n",
    "$$\n",
    "D_j = \\frac{\\rho^{n}_{j+1}-\\rho^{n}_{j-1}}{2\\Delta x}\n",
    "$$\n",
    "\n",
    "Use the Dirichlet boundary conditions $\\rho(x = ±L/2) = 0$. Use the solitary wave solution of the KdV equation as an initial condition, $\\rho(x, t) = 2\\mbox{sech}^2(x − 4t)$. What do you observe?\n"
   ],
   "metadata": {
    "collapsed": false
   }
  },
  {
   "cell_type": "code",
   "execution_count": null,
   "outputs": [],
   "source": [],
   "metadata": {
    "collapsed": false
   }
  }
 ],
 "metadata": {
  "kernelspec": {
   "display_name": "Python 3",
   "language": "python",
   "name": "python3"
  },
  "language_info": {
   "codemirror_mode": {
    "name": "ipython",
    "version": 2
   },
   "file_extension": ".py",
   "mimetype": "text/x-python",
   "name": "python",
   "nbconvert_exporter": "python",
   "pygments_lexer": "ipython2",
   "version": "2.7.6"
  }
 },
 "nbformat": 4,
 "nbformat_minor": 0
}
