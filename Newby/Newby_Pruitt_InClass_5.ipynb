{
 "cells": [
  {
   "cell_type": "markdown",
   "source": [
    "# In Class Exercise 5: Systems of Linear Equations"
   ],
   "metadata": {
    "collapsed": false
   }
  },
  {
   "cell_type": "markdown",
   "source": [
    "1a) Write the Force equations using matrix equation of the form $ F = \\hat{K}x - b$\n",
    "F1 = −k1(x1 −L1) + k2(x2 −x1 −L2)\n",
    "F2 = −k2(x2 −x1 −L2) + k3(x3 −x2 −L3)\n",
    "F3 = −k3(x3 −x2 −L3) + k4(Lw −x3 −L4)\n",
    "Solving on paper, we get the following for $\\hat{K}$ and $b$:\n",
    "\n",
    "$$\n",
    "\\hat{K}=\n",
    "\\begin{bmatrix}\n",
    "-(k_1+k_2) & k_2 & 0\\\\\n",
    "k_2 & -(k_2+k_3) & k_3\\\\\n",
    "0 & k_3 & -(k_3 + k_4)\n",
    "\\end{bmatrix}\n",
    "\\mbox{ and }\n",
    "b =\n",
    "\\begin{bmatrix}\n",
    "k_1L_1 - k_2L_2 \\\\\n",
    "k_2L_2 - k_3L_3 \\\\\n",
    "k_3L_3 +k_4L_W-k_4L_4\n",
    "\\end{bmatrix}\n",
    "$$"
   ],
   "metadata": {
    "collapsed": false
   }
  },
  {
   "cell_type": "markdown",
   "source": [
    "2a) Write a program to solve for the rest positions of the masses in equilibrium and the final lengths of the springs"
   ],
   "metadata": {
    "collapsed": false
   }
  },
  {
   "cell_type": "code",
   "execution_count": 84,
   "metadata": {
    "collapsed": true
   },
   "outputs": [
    {
     "data": {
      "text/plain": "(array([1., 2., 3.]), array([1., 1., 1., 1.]))"
     },
     "execution_count": 84,
     "metadata": {},
     "output_type": "execute_result"
    }
   ],
   "source": [
    "import numpy as np\n",
    "k_a = np.array([1,2,3,4])\n",
    "L_a=np.array([1,1,1,1])\n",
    "L_w_a=4\n",
    "\n",
    "def ksolver(k,l,l_w):\n",
    "    K=np.array([[\n",
    "        -(k[0]+k[1]),k[1],0],\n",
    "        [k[1], -(k[1]+k[2]),k[2]],\n",
    "        [0,k[2],-(k[2]+k[3])]\n",
    "    ])\n",
    "\n",
    "    b=-np.array(\n",
    "        [k[0]*l[0]-k[1]*l[1],\n",
    "         k[1]*l[1] - k[2]*l[2],\n",
    "         k[2]*l[2] + k[3]*l_w-k[3]*l[3]]\n",
    "    )\n",
    "\n",
    "\n",
    "    invk= np.linalg.inv(K)\n",
    "    xs= invk @ b\n",
    "\n",
    "\n",
    "\n",
    "\n",
    "    springlengths=np.array([xs[0],xs[1]-xs[0],xs[2]-xs[1],l_w-xs[2]])\n",
    "\n",
    "    return xs,springlengths\n",
    "ksolver(k_a,L_a,L_w_a)\n"
   ]
  },
  {
   "cell_type": "markdown",
   "source": [],
   "metadata": {
    "collapsed": false
   }
  },
  {
   "cell_type": "code",
   "execution_count": 85,
   "outputs": [
    {
     "data": {
      "text/plain": "(array([3.88, 6.32, 8.28]), array([3.88, 2.44, 1.96, 1.72]))"
     },
     "execution_count": 85,
     "metadata": {},
     "output_type": "execute_result"
    }
   ],
   "source": [
    "k_b = np.array([1,2,3,4])\n",
    "L_b=np.array([1,1,1,1])\n",
    "L_w_b=10\n",
    "ksolver(k_b,L_b,L_w_b)"
   ],
   "metadata": {
    "collapsed": false
   }
  },
  {
   "cell_type": "markdown",
   "source": [],
   "metadata": {
    "collapsed": false
   }
  },
  {
   "cell_type": "code",
   "execution_count": 86,
   "outputs": [
    {
     "data": {
      "text/plain": "(array([1.5, 3. , 3.5]), array([1.5, 1.5, 0.5, 0.5]))"
     },
     "execution_count": 86,
     "metadata": {},
     "output_type": "execute_result"
    }
   ],
   "source": [
    "k_c = np.array([1,1,1,1])\n",
    "L_c=np.array([2,2,1,1])\n",
    "L_w_c=4\n",
    "ksolver(k_c,L_c,L_w_c)"
   ],
   "metadata": {
    "collapsed": false
   }
  },
  {
   "cell_type": "markdown",
   "source": [],
   "metadata": {
    "collapsed": false
   }
  },
  {
   "cell_type": "code",
   "execution_count": 87,
   "outputs": [
    {
     "data": {
      "text/plain": "(array([2., 4., 5.]), array([ 2.,  2.,  1., -1.]))"
     },
     "execution_count": 87,
     "metadata": {},
     "output_type": "execute_result"
    }
   ],
   "source": [
    "k_d = np.array([1,1,1,0])\n",
    "L_d=np.array([2,2,1,1])\n",
    "L_w_d=4\n",
    "ksolver(k_d,L_d,L_w_d)"
   ],
   "metadata": {
    "collapsed": false
   }
  },
  {
   "cell_type": "markdown",
   "source": [],
   "metadata": {
    "collapsed": false
   }
  },
  {
   "cell_type": "code",
   "execution_count": 88,
   "outputs": [
    {
     "ename": "LinAlgError",
     "evalue": "Singular matrix",
     "output_type": "error",
     "traceback": [
      "\u001B[0;31m---------------------------------------------------------------------------\u001B[0m",
      "\u001B[0;31mLinAlgError\u001B[0m                               Traceback (most recent call last)",
      "Cell \u001B[0;32mIn[88], line 4\u001B[0m\n\u001B[1;32m      2\u001B[0m L_e\u001B[38;5;241m=\u001B[39mnp\u001B[38;5;241m.\u001B[39marray([\u001B[38;5;241m2\u001B[39m,\u001B[38;5;241m2\u001B[39m,\u001B[38;5;241m1\u001B[39m,\u001B[38;5;241m1\u001B[39m])\n\u001B[1;32m      3\u001B[0m L_w_e\u001B[38;5;241m=\u001B[39m\u001B[38;5;241m4\u001B[39m\n\u001B[0;32m----> 4\u001B[0m \u001B[43mksolver\u001B[49m\u001B[43m(\u001B[49m\u001B[43mk_e\u001B[49m\u001B[43m,\u001B[49m\u001B[43mL_e\u001B[49m\u001B[43m,\u001B[49m\u001B[43mL_w_e\u001B[49m\u001B[43m)\u001B[49m\n",
      "Cell \u001B[0;32mIn[84], line 20\u001B[0m, in \u001B[0;36mksolver\u001B[0;34m(k, l, l_w)\u001B[0m\n\u001B[1;32m      7\u001B[0m K\u001B[38;5;241m=\u001B[39mnp\u001B[38;5;241m.\u001B[39marray([[\n\u001B[1;32m      8\u001B[0m     \u001B[38;5;241m-\u001B[39m(k[\u001B[38;5;241m0\u001B[39m]\u001B[38;5;241m+\u001B[39mk[\u001B[38;5;241m1\u001B[39m]),k[\u001B[38;5;241m1\u001B[39m],\u001B[38;5;241m0\u001B[39m],\n\u001B[1;32m      9\u001B[0m     [k[\u001B[38;5;241m1\u001B[39m], \u001B[38;5;241m-\u001B[39m(k[\u001B[38;5;241m1\u001B[39m]\u001B[38;5;241m+\u001B[39mk[\u001B[38;5;241m2\u001B[39m]),k[\u001B[38;5;241m2\u001B[39m]],\n\u001B[1;32m     10\u001B[0m     [\u001B[38;5;241m0\u001B[39m,k[\u001B[38;5;241m2\u001B[39m],\u001B[38;5;241m-\u001B[39m(k[\u001B[38;5;241m2\u001B[39m]\u001B[38;5;241m+\u001B[39mk[\u001B[38;5;241m3\u001B[39m])]\n\u001B[1;32m     11\u001B[0m ])\n\u001B[1;32m     13\u001B[0m b\u001B[38;5;241m=\u001B[39m\u001B[38;5;241m-\u001B[39mnp\u001B[38;5;241m.\u001B[39marray(\n\u001B[1;32m     14\u001B[0m     [k[\u001B[38;5;241m0\u001B[39m]\u001B[38;5;241m*\u001B[39ml[\u001B[38;5;241m0\u001B[39m]\u001B[38;5;241m-\u001B[39mk[\u001B[38;5;241m1\u001B[39m]\u001B[38;5;241m*\u001B[39ml[\u001B[38;5;241m1\u001B[39m],\n\u001B[1;32m     15\u001B[0m      k[\u001B[38;5;241m1\u001B[39m]\u001B[38;5;241m*\u001B[39ml[\u001B[38;5;241m1\u001B[39m] \u001B[38;5;241m-\u001B[39m k[\u001B[38;5;241m2\u001B[39m]\u001B[38;5;241m*\u001B[39ml[\u001B[38;5;241m2\u001B[39m],\n\u001B[1;32m     16\u001B[0m      k[\u001B[38;5;241m2\u001B[39m]\u001B[38;5;241m*\u001B[39ml[\u001B[38;5;241m2\u001B[39m] \u001B[38;5;241m+\u001B[39m k[\u001B[38;5;241m3\u001B[39m]\u001B[38;5;241m*\u001B[39ml_w\u001B[38;5;241m-\u001B[39mk[\u001B[38;5;241m3\u001B[39m]\u001B[38;5;241m*\u001B[39ml[\u001B[38;5;241m3\u001B[39m]]\n\u001B[1;32m     17\u001B[0m )\n\u001B[0;32m---> 20\u001B[0m invk\u001B[38;5;241m=\u001B[39m \u001B[43mnp\u001B[49m\u001B[38;5;241;43m.\u001B[39;49m\u001B[43mlinalg\u001B[49m\u001B[38;5;241;43m.\u001B[39;49m\u001B[43minv\u001B[49m\u001B[43m(\u001B[49m\u001B[43mK\u001B[49m\u001B[43m)\u001B[49m\n\u001B[1;32m     21\u001B[0m xs\u001B[38;5;241m=\u001B[39m invk \u001B[38;5;241m@\u001B[39m b\n\u001B[1;32m     26\u001B[0m springlengths\u001B[38;5;241m=\u001B[39mnp\u001B[38;5;241m.\u001B[39marray([xs[\u001B[38;5;241m0\u001B[39m],xs[\u001B[38;5;241m1\u001B[39m]\u001B[38;5;241m-\u001B[39mxs[\u001B[38;5;241m0\u001B[39m],xs[\u001B[38;5;241m2\u001B[39m]\u001B[38;5;241m-\u001B[39mxs[\u001B[38;5;241m1\u001B[39m],l_w\u001B[38;5;241m-\u001B[39mxs[\u001B[38;5;241m2\u001B[39m]])\n",
      "File \u001B[0;32m<__array_function__ internals>:180\u001B[0m, in \u001B[0;36minv\u001B[0;34m(*args, **kwargs)\u001B[0m\n",
      "File \u001B[0;32m~/anaconda3/envs/ProfHurst_PHYS240_Sp23/lib/python3.10/site-packages/numpy/linalg/linalg.py:552\u001B[0m, in \u001B[0;36minv\u001B[0;34m(a)\u001B[0m\n\u001B[1;32m    550\u001B[0m signature \u001B[38;5;241m=\u001B[39m \u001B[38;5;124m'\u001B[39m\u001B[38;5;124mD->D\u001B[39m\u001B[38;5;124m'\u001B[39m \u001B[38;5;28;01mif\u001B[39;00m isComplexType(t) \u001B[38;5;28;01melse\u001B[39;00m \u001B[38;5;124m'\u001B[39m\u001B[38;5;124md->d\u001B[39m\u001B[38;5;124m'\u001B[39m\n\u001B[1;32m    551\u001B[0m extobj \u001B[38;5;241m=\u001B[39m get_linalg_error_extobj(_raise_linalgerror_singular)\n\u001B[0;32m--> 552\u001B[0m ainv \u001B[38;5;241m=\u001B[39m \u001B[43m_umath_linalg\u001B[49m\u001B[38;5;241;43m.\u001B[39;49m\u001B[43minv\u001B[49m\u001B[43m(\u001B[49m\u001B[43ma\u001B[49m\u001B[43m,\u001B[49m\u001B[43m \u001B[49m\u001B[43msignature\u001B[49m\u001B[38;5;241;43m=\u001B[39;49m\u001B[43msignature\u001B[49m\u001B[43m,\u001B[49m\u001B[43m \u001B[49m\u001B[43mextobj\u001B[49m\u001B[38;5;241;43m=\u001B[39;49m\u001B[43mextobj\u001B[49m\u001B[43m)\u001B[49m\n\u001B[1;32m    553\u001B[0m \u001B[38;5;28;01mreturn\u001B[39;00m wrap(ainv\u001B[38;5;241m.\u001B[39mastype(result_t, copy\u001B[38;5;241m=\u001B[39m\u001B[38;5;28;01mFalse\u001B[39;00m))\n",
      "File \u001B[0;32m~/anaconda3/envs/ProfHurst_PHYS240_Sp23/lib/python3.10/site-packages/numpy/linalg/linalg.py:89\u001B[0m, in \u001B[0;36m_raise_linalgerror_singular\u001B[0;34m(err, flag)\u001B[0m\n\u001B[1;32m     88\u001B[0m \u001B[38;5;28;01mdef\u001B[39;00m \u001B[38;5;21m_raise_linalgerror_singular\u001B[39m(err, flag):\n\u001B[0;32m---> 89\u001B[0m     \u001B[38;5;28;01mraise\u001B[39;00m LinAlgError(\u001B[38;5;124m\"\u001B[39m\u001B[38;5;124mSingular matrix\u001B[39m\u001B[38;5;124m\"\u001B[39m)\n",
      "\u001B[0;31mLinAlgError\u001B[0m: Singular matrix"
     ]
    }
   ],
   "source": [
    "k_e = np.array([0,1,1,0])\n",
    "L_e=np.array([2,2,1,1])\n",
    "L_w_e=4\n",
    "ksolver(k_e,L_e,L_w_e)"
   ],
   "metadata": {
    "collapsed": false
   }
  },
  {
   "cell_type": "markdown",
   "source": [],
   "metadata": {
    "collapsed": false
   }
  },
  {
   "cell_type": "markdown",
   "source": [
    "4. Challenge Question:\n",
    "Frw = −k4(Lw −x3 −L4)"
   ],
   "metadata": {
    "collapsed": false
   }
  },
  {
   "cell_type": "code",
   "execution_count": 89,
   "outputs": [
    {
     "data": {
      "text/plain": "[<matplotlib.lines.Line2D at 0x7f11fd503100>]"
     },
     "execution_count": 89,
     "metadata": {},
     "output_type": "execute_result"
    },
    {
     "data": {
      "text/plain": "<Figure size 640x480 with 1 Axes>",
      "image/png": "[encoded data removed]"
     },
     "metadata": {},
     "output_type": "display_data"
    }
   ],
   "source": [
    "import matplotlib.pyplot as plt\n",
    "def ksolverF(k,l,l_w):\n",
    "    K=np.array([[\n",
    "        -(k[0]+k[1]),k[1],0],\n",
    "        [k[1], -(k[1]+k[2]),k[2]],\n",
    "        [0,k[2],-(k[2]+k[3])]\n",
    "    ])\n",
    "\n",
    "    b=-np.array(\n",
    "        [k[0]*l[0]-k[1]*l[1],\n",
    "         k[1]*l[1] - k[2]*l[2],\n",
    "         k[2]*l[2] + k[3]*l_w-k[3]*l[3]]\n",
    "    )\n",
    "\n",
    "\n",
    "    invk= np.linalg.inv(K)\n",
    "    xs= invk @ b\n",
    "\n",
    "\n",
    "\n",
    "\n",
    "    springlengths=np.array([xs[0],xs[1]-xs[0],xs[2]-xs[1],l_w-xs[2]])\n",
    "    F_rw=-k[3]*(l_w-xs[2]-l[3])\n",
    "    L_0= np.sum(l)\n",
    "    k_0=1/(1/k[0]+1/k[1]+1/k[2]+1/k[3])\n",
    "\n",
    "    F_equiv= -k_0*(l_w-L_0)\n",
    "\n",
    "    return F_rw,F_equiv\n",
    "k_a = np.array([1,2,3,4])\n",
    "L_a=np.array([1,1,1,1])\n",
    "L_w_a=4\n",
    "\n",
    "\n",
    "lwsArray=np.arange(1,10,0.2)\n",
    "Fs=np.empty(lwsArray.shape)\n",
    "Fq=np.empty(lwsArray.shape)\n",
    "\n",
    "for i,lw in enumerate(lwsArray):\n",
    "    Fs[i],Fq[i]= ksolverF(k_a,L_a,lw)\n",
    "\n",
    "plt.figure()\n",
    "plt.plot(lwsArray,Fs,'k.')\n",
    "plt.plot(lwsArray,Fq,'b-')\n",
    "\n"
   ],
   "metadata": {
    "collapsed": false
   }
  },
  {
   "cell_type": "code",
   "execution_count": null,
   "outputs": [],
   "source": [],
   "metadata": {
    "collapsed": false
   }
  }
 ],
 "metadata": {
  "kernelspec": {
   "display_name": "Python 3",
   "language": "python",
   "name": "python3"
  },
  "language_info": {
   "codemirror_mode": {
    "name": "ipython",
    "version": 2
   },
   "file_extension": ".py",
   "mimetype": "text/x-python",
   "name": "python",
   "nbconvert_exporter": "python",
   "pygments_lexer": "ipython2",
   "version": "2.7.6"
  }
 },
 "nbformat": 4,
 "nbformat_minor": 0
}
