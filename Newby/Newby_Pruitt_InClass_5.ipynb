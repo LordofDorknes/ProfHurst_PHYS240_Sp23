{
 "cells": [
  {
   "cell_type": "markdown",
   "source": [
    "# In Class Exercise 5: Systems of Linear Equations"
   ],
   "metadata": {
    "collapsed": false
   }
  },
  {
   "cell_type": "markdown",
   "source": [
    "1a) Write the Force equations using matrix equation of the form $ F = \\hat{K}x - b$\n",
    "F1 = −k1(x1 −L1) + k2(x2 −x1 −L2)\n",
    "F2 = −k2(x2 −x1 −L2) + k3(x3 −x2 −L3)\n",
    "F3 = −k3(x3 −x2 −L3) + k4(Lw −x3 −L4)\n",
    "Solving on paper, we get the following for $\\hat{K}$ and $b$:\n",
    "\n",
    "$$\n",
    "\\hat{K}=\n",
    "\\begin{bmatrix}\n",
    "-(k_1+k_2) & k_2 & 0\\\\\n",
    "k_2 & -(k_2+k_3) & k_3\\\\\n",
    "0 & k_3 & -(k_3 + k_4)\n",
    "\\end{bmatrix}\n",
    "\\mbox{ and }\n",
    "b =\n",
    "\\begin{bmatrix}\n",
    "k_1L_1 - k_2L_2 \\\\\n",
    "k_2L_2 - k_3L_3 \\\\\n",
    "k_3L_3 +k_4L_W-k_4L_4\n",
    "\\end{bmatrix}\n",
    "$$"
   ],
   "metadata": {
    "collapsed": false
   }
  },
  {
   "cell_type": "markdown",
   "source": [
    "2a) Write a program to solve for the rest positions of the masses in equilibrium and the final lengths of the springs"
   ],
   "metadata": {
    "collapsed": false
   }
  },
  {
   "cell_type": "code",
   "execution_count": null,
   "metadata": {
    "collapsed": true
   },
   "outputs": [],
   "source": []
  }
 ],
 "metadata": {
  "kernelspec": {
   "display_name": "Python 3",
   "language": "python",
   "name": "python3"
  },
  "language_info": {
   "codemirror_mode": {
    "name": "ipython",
    "version": 2
   },
   "file_extension": ".py",
   "mimetype": "text/x-python",
   "name": "python",
   "nbconvert_exporter": "python",
   "pygments_lexer": "ipython2",
   "version": "2.7.6"
  }
 },
 "nbformat": 4,
 "nbformat_minor": 0
}
